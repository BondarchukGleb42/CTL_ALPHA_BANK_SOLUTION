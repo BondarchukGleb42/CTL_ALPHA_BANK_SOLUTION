{
 "cells": [
  {
   "cell_type": "markdown",
   "id": "8b7bef09-9e86-4b19-bbb7-e0ccb7515328",
   "metadata": {
    "execution": {
     "iopub.execute_input": "2024-02-14T22:50:38.627643Z",
     "iopub.status.busy": "2024-02-14T22:50:38.627255Z",
     "iopub.status.idle": "2024-02-14T22:50:39.496067Z",
     "shell.execute_reply": "2024-02-14T22:50:39.495215Z",
     "shell.execute_reply.started": "2024-02-14T22:50:38.627616Z"
    },
    "id": "8b7bef09-9e86-4b19-bbb7-e0ccb7515328",
    "tags": []
   },
   "source": [
    "# Baseline"
   ]
  },
  {
   "cell_type": "code",
   "execution_count": 177,
   "id": "e0ddb399-18f4-4051-86c0-39f1c623eef5",
   "metadata": {
    "id": "e0ddb399-18f4-4051-86c0-39f1c623eef5",
    "tags": []
   },
   "outputs": [],
   "source": [
    "import numpy as np\n",
    "import pandas as pd\n",
    "from catboost import CatBoostClassifier, Pool\n",
    "from sklearn.metrics import roc_auc_score\n",
    "from sklearn.model_selection import train_test_split\n",
    "from sklearn.utils.class_weight import compute_class_weight\n",
    "from sklearn.model_selection import StratifiedKFold\n",
    "from sklearn.utils.class_weight import compute_class_weight\n",
    "import random\n",
    "from sklearn.model_selection import RepeatedStratifiedKFold\n",
    "\n",
    "\n",
    "def weighted_roc_auc(y_true, y_pred, labels, weights_dict):\n",
    "    unnorm_weights = np.array([weights_dict[label] for label in labels])\n",
    "    weights = unnorm_weights / unnorm_weights.sum()\n",
    "    classes_roc_auc = roc_auc_score(y_true, y_pred, labels=labels,\n",
    "                                    multi_class=\"ovr\", average=None)\n",
    "    return sum(weights * classes_roc_auc)"
   ]
  },
  {
   "cell_type": "code",
   "execution_count": 2,
   "id": "32c8b1b0-f95e-4cb5-bbc1-c0edb76568c1",
   "metadata": {
    "id": "32c8b1b0-f95e-4cb5-bbc1-c0edb76568c1",
    "tags": []
   },
   "outputs": [],
   "source": [
    "train_df = pd.read_parquet(\"data/train_data.pqt\")\n",
    "test_df = pd.read_parquet(\"data/test_data.pqt\")"
   ]
  },
  {
   "cell_type": "code",
   "execution_count": 3,
   "id": "05a1edfe-fcca-4945-a00d-c0b1627d1718",
   "metadata": {
    "id": "05a1edfe-fcca-4945-a00d-c0b1627d1718",
    "tags": []
   },
   "outputs": [],
   "source": [
    "cat_cols = [\n",
    "    \"channel_code\", \"city\", \"city_type\",\n",
    "    \"okved\", \"segment\", \"start_cluster\",\n",
    "    \"index_city_code\", \"ogrn_month\", \"ogrn_year\",\n",
    "]"
   ]
  },
  {
   "cell_type": "code",
   "execution_count": 4,
   "id": "198295f2-78b7-41a0-b0fe-490de972beaf",
   "metadata": {
    "id": "198295f2-78b7-41a0-b0fe-490de972beaf",
    "tags": []
   },
   "outputs": [],
   "source": [
    "train_df[cat_cols] = train_df[cat_cols].astype(\"category\")\n",
    "test_df[cat_cols] = test_df[cat_cols].astype(\"category\")"
   ]
  },
  {
   "cell_type": "code",
   "execution_count": 5,
   "id": "e2630c7d",
   "metadata": {},
   "outputs": [],
   "source": [
    "m = train_df.columns[train_df.dtypes == \"category\"]\n",
    "train_df[m] = train_df[m].astype(\"str\")"
   ]
  },
  {
   "cell_type": "code",
   "execution_count": 6,
   "id": "0a542163",
   "metadata": {},
   "outputs": [],
   "source": [
    "X = train_df.drop([\"id\", \"date\", \"end_cluster\"], axis=1)\n",
    "X = X.fillna(\"#N/A\")\n",
    "y = train_df[\"end_cluster\"]"
   ]
  },
  {
   "cell_type": "code",
   "execution_count": 7,
   "id": "5cdca0dd",
   "metadata": {},
   "outputs": [],
   "source": [
    "train_df.drop(\"date\", inplace=True, axis=1)"
   ]
  },
  {
   "cell_type": "code",
   "execution_count": null,
   "id": "b8c17b3a-079a-4e4a-a67e-5b146e4229bc",
   "metadata": {},
   "outputs": [],
   "source": []
  },
  {
   "cell_type": "code",
   "execution_count": 8,
   "id": "c75288e4",
   "metadata": {},
   "outputs": [],
   "source": [
    "#for let in [\"a\", \"b\", \"c\", \"deb_d\", \"deb_e\", \"deb_f\", \"deb_g\", \"deb_h\"]:\n",
    "#    train_df[f\"{let}_ration_1m\"] = train_df[f\"sum_{let}_oper_1m\"] / train_df[f\"cnt_{let}_oper_1m\"]\n",
    "#    train_df[f\"{let}_ration_3m\"] = train_df[f\"sum_{let}_oper_3m\"] / train_df[f\"cnt_{let}_oper_3m\"]"
   ]
  },
  {
   "cell_type": "code",
   "execution_count": null,
   "id": "759fad00",
   "metadata": {},
   "outputs": [],
   "source": []
  },
  {
   "cell_type": "code",
   "execution_count": 9,
   "id": "34badea4",
   "metadata": {
    "scrolled": true
   },
   "outputs": [
    {
     "name": "stderr",
     "output_type": "stream",
     "text": [
      "100%|████████████████████████████████████████████████████████████████████████| 200000/200000 [03:17<00:00, 1011.27it/s]\n"
     ]
    }
   ],
   "source": [
    "from tqdm import tqdm\n",
    "xs = []\n",
    "ys = []\n",
    "\n",
    "for idx, group in tqdm(train_df.groupby(\"id\")):\n",
    "    answer = group.end_cluster.tolist()[-1]\n",
    "    group.drop(\"end_cluster\", axis=1, inplace=True)\n",
    "    \n",
    "    features = pd.DataFrame(group.stack(dropna=False)).reset_index(drop=True, level=0).transpose()\n",
    "    features = features.drop(\"id\", axis=1)\n",
    "    \n",
    "    column_names=  features.columns.tolist()\n",
    "    cnt_one = features.shape[1] //  3\n",
    "    new_column_names = [str(ind//cnt_one) + \"_\" + column_name for ind, column_name in enumerate(column_names)]\n",
    "    features.columns = new_column_names\n",
    "    \n",
    "    features = features.drop(\"2_start_cluster\", axis=1)\n",
    "        \n",
    "    xs.append(features)\n",
    "    ys.append(answer)"
   ]
  },
  {
   "cell_type": "code",
   "execution_count": 10,
   "id": "f3a81b32-723a-4b62-bd8e-1ab3ea3c3e3f",
   "metadata": {},
   "outputs": [
    {
     "data": {
      "text/plain": [
       "0"
      ]
     },
     "execution_count": 10,
     "metadata": {},
     "output_type": "execute_result"
    }
   ],
   "source": [
    "import gc\n",
    "gc.collect()"
   ]
  },
  {
   "cell_type": "code",
   "execution_count": 11,
   "id": "34493819",
   "metadata": {},
   "outputs": [
    {
     "name": "stderr",
     "output_type": "stream",
     "text": [
      "100%|████████████████████████████████████████████████████████████████████████| 200000/200000 [03:19<00:00, 1003.27it/s]\n"
     ]
    }
   ],
   "source": [
    "xs_two_stages = []\n",
    "ys_two_stages = []\n",
    "\n",
    "for idx, group in tqdm(train_df.groupby(\"id\")):\n",
    "    answer = group.end_cluster.tolist()[-1]\n",
    "    group.drop(\"end_cluster\", axis=1, inplace=True)\n",
    "    group = group.iloc[:2]\n",
    "    features = pd.DataFrame(group.stack(dropna=False)).reset_index(drop=True, level=0).transpose()\n",
    "    features = features.drop(\"id\", axis=1)\n",
    "    \n",
    "    column_names = features.columns.tolist()\n",
    "    cnt_one = features.shape[1] //  2\n",
    "    new_column_names = [str(ind//cnt_one) + \"_\" + column_name for ind, column_name in enumerate(column_names)]\n",
    "    features.columns = new_column_names\n",
    "    \n",
    "    features = features.drop(\"1_start_cluster\", axis=1)\n",
    "        \n",
    "    xs_two_stages.append(features)\n",
    "    ys_two_stages.append(answer)\n",
    "    "
   ]
  },
  {
   "cell_type": "code",
   "execution_count": null,
   "id": "2baab0e9",
   "metadata": {},
   "outputs": [],
   "source": []
  },
  {
   "cell_type": "markdown",
   "id": "4ab163ff",
   "metadata": {
    "execution": {
     "iopub.execute_input": "2024-02-14T23:09:54.944960Z",
     "iopub.status.busy": "2024-02-14T23:09:54.944681Z",
     "iopub.status.idle": "2024-02-14T23:09:55.555948Z",
     "shell.execute_reply": "2024-02-14T23:09:55.554535Z",
     "shell.execute_reply.started": "2024-02-14T23:09:54.944939Z"
    },
    "id": "2c0edf39-d716-48ca-a66c-936871ee5918",
    "tags": []
   },
   "source": [
    "## треним модельку на трех эатпах"
   ]
  },
  {
   "cell_type": "code",
   "execution_count": 194,
   "id": "d8708989",
   "metadata": {},
   "outputs": [],
   "source": [
    "X = pd.concat(xs)\n",
    "y = ys.copy()\n",
    "\n",
    "\n",
    "cat_cols = [\n",
    "    \"channel_code\", \"city\", \"city_type\",\n",
    "    \"okved\", \"segment\", \"start_cluster\",\n",
    "    \"index_city_code\", \"ogrn_month\", \"ogrn_year\",\n",
    "]\n",
    "all_cat_cols = []\n",
    "\n",
    "for i in range(3):\n",
    "    for j in cat_cols:\n",
    "        all_cat_cols.append(f\"{i}_{j}\")\n",
    "all_cat_cols.remove(\"2_start_cluster\")"
   ]
  },
  {
   "cell_type": "code",
   "execution_count": 197,
   "id": "a6facc7a",
   "metadata": {},
   "outputs": [],
   "source": [
    "cluster_weights = pd.read_excel(\"data/cluster_weights.xlsx\").set_index(\"cluster\")\n",
    "weights_dict = cluster_weights[\"unnorm_weight\"].to_dict()"
   ]
  },
  {
   "cell_type": "code",
   "execution_count": 198,
   "id": "1f566665",
   "metadata": {},
   "outputs": [],
   "source": [
    "y = np.array(y)"
   ]
  },
  {
   "cell_type": "code",
   "execution_count": 199,
   "id": "863583ed",
   "metadata": {},
   "outputs": [],
   "source": [
    "balanced_weights = compute_class_weight(class_weight=\"balanced\", classes=np.unique(y), y=y)"
   ]
  },
  {
   "cell_type": "code",
   "execution_count": 200,
   "id": "a1e4bfc3-1fc9-4805-82a1-8720d96a3d22",
   "metadata": {},
   "outputs": [],
   "source": [
    "import pickle\n",
    "best_features = pickle.load(open(\"best_features.pkl\", \"rb\"))"
   ]
  },
  {
   "cell_type": "code",
   "execution_count": 201,
   "id": "cb760437-0364-4842-952d-93196a76f2e6",
   "metadata": {},
   "outputs": [],
   "source": [
    "# cur_X = X[best_features]"
   ]
  },
  {
   "cell_type": "code",
   "execution_count": 202,
   "id": "8a9c3fa0-00df-49cf-b0e1-d04c285c4f8a",
   "metadata": {},
   "outputs": [],
   "source": [
    "# all_cat_cols = [i for i in all_cat_cols if i in best_features]"
   ]
  },
  {
   "cell_type": "code",
   "execution_count": 203,
   "id": "22764ad4-ac66-4200-8fb1-c0de3aab224f",
   "metadata": {},
   "outputs": [],
   "source": [
    "using_weights_dict = {}\n",
    "csw = compute_class_weight(class_weight=\"balanced\", classes=np.unique(y), y=y)\n",
    "\n",
    "gamma = 1\n",
    "\n",
    "for ind, i in enumerate(np.unique(y)):\n",
    "    using_weights_dict[i] = weights_dict[i] * gamma + (1 - gamma) * csw[ind]"
   ]
  },
  {
   "cell_type": "code",
   "execution_count": 204,
   "id": "5a42d400-759c-4dc9-ab08-e45baab09292",
   "metadata": {},
   "outputs": [],
   "source": [
    "all_features = X.columns.tolist()"
   ]
  },
  {
   "cell_type": "code",
   "execution_count": 205,
   "id": "648e0155",
   "metadata": {},
   "outputs": [
    {
     "name": "stdout",
     "output_type": "stream",
     "text": [
      "Fold: 0\n",
      "train score: 0.9489340427971609\n",
      "valid score: 0.9059745571287048\n",
      "Fold: 1\n",
      "train score: 0.9473771781498808\n",
      "valid score: 0.8991948178826965\n",
      "Fold: 2\n",
      "train score: 0.9528863365650948\n",
      "valid score: 0.9038675879329557\n",
      "Fold: 3\n",
      "train score: 0.9536108667805825\n",
      "valid score: 0.8943353713362943\n",
      "Fold: 4\n",
      "train score: 0.9534173811975657\n",
      "valid score: 0.8996862398655922\n",
      "Fold: 5\n",
      "train score: 0.9492160976756175\n",
      "valid score: 0.8965030654444143\n",
      "Fold: 6\n",
      "train score: 0.9509609470719557\n",
      "valid score: 0.9106365602896371\n",
      "Fold: 7\n",
      "train score: 0.9492211854257568\n",
      "valid score: 0.9045872730838098\n",
      "Fold: 8\n",
      "train score: 0.9492959277506978\n",
      "valid score: 0.8971698394983952\n",
      "Fold: 9\n",
      "train score: 0.9467150099991715\n",
      "valid score: 0.8985726885925811\n"
     ]
    }
   ],
   "source": [
    "n_splits = 5\n",
    "train_scores = []\n",
    "val_scores = []\n",
    "models = []\n",
    "features_for_k_fold = []\n",
    "cat_features_for_k_fold = []\n",
    "\n",
    "\n",
    "# rmskf = StratifiedKFold(n_splits=n_splits, shuffle=True, random_state=42)\n",
    "rmskf = RepeatedStratifiedKFold(n_splits=n_splits,  n_repeats=2, random_state=42)\n",
    "\n",
    "for fold, (train_index, test_index) in enumerate(rmskf.split(X, y)):\n",
    "    print(f'Fold: {fold}')\n",
    "    random.shuffle(best_features)\n",
    "    random.shuffle(all_features)\n",
    "\n",
    "    COUNT_ONE_FOLD_FEATURES = 75\n",
    "    cur_features = list(set(best_features[:COUNT_ONE_FOLD_FEATURES] + all_features[:200-COUNT_ONE_FOLD_FEATURES]))  \n",
    "    \n",
    "    cur_X = X.loc[:, cur_features].copy()\n",
    "    \n",
    "    features_for_k_fold.append(cur_features.copy())\n",
    "    \n",
    "    cur_cat_features = [i for i in all_cat_cols if i in features_for_k_fold[-1]]\n",
    "    cat_features_for_k_fold.append(cur_cat_features.copy())\n",
    "\n",
    "    X_train, X_val = cur_X.iloc[train_index], cur_X.iloc[test_index]\n",
    "    y_train, y_val = y[train_index], y[test_index]\n",
    "    \n",
    "    train_pool = Pool(X_train, y_train, cat_features=cur_cat_features)\n",
    "    valid_pool = Pool(X_val, y_val, cat_features=cur_cat_features)\n",
    "    \n",
    "    #gamma = fold / n_splits\n",
    "    #w = np.array(list(weights_dict.values())) * (1 - gamma)\n",
    "    #w += balanced_weights * (gamma)\n",
    "\n",
    "    model = CatBoostClassifier(\n",
    "        random_state=42,\n",
    "        task_type=\"GPU\",\n",
    "        early_stopping_rounds = 50,\n",
    "        class_weights=list(weights_dict.values()))\n",
    "    \n",
    "    model.fit(train_pool, eval_set=valid_pool, verbose=False)\n",
    "\n",
    "\n",
    "    train_score = weighted_roc_auc(y_train, model.predict_proba(train_pool), model.classes_, using_weights_dict)\n",
    "    valid_score = weighted_roc_auc(y_val, model.predict_proba(valid_pool), model.classes_, using_weights_dict)\n",
    "    print(\"train score:\", train_score)\n",
    "    print(\"valid score:\", valid_score)\n",
    "    \n",
    "    train_scores.append(train_score)\n",
    "    val_scores.append(valid_score)\n",
    "    models.append(model)"
   ]
  },
  {
   "cell_type": "code",
   "execution_count": null,
   "id": "4a3c0873-3203-4c13-97e1-b89843c25bea",
   "metadata": {},
   "outputs": [],
   "source": []
  },
  {
   "cell_type": "code",
   "execution_count": null,
   "id": "56105278",
   "metadata": {},
   "outputs": [],
   "source": []
  },
  {
   "cell_type": "code",
   "execution_count": 98,
   "id": "6badd1b7-0155-4c85-859d-f075800ede6e",
   "metadata": {
    "colab": {
     "base_uri": "https://localhost:8080/",
     "height": 74
    },
    "id": "6badd1b7-0155-4c85-859d-f075800ede6e",
    "outputId": "9e5fde0f-da28-40a8-984a-f7bf1a94c82d",
    "scrolled": true,
    "tags": []
   },
   "outputs": [],
   "source": [
    "#train_pool = Pool(x_train, y_train, cat_features=all_cat_cols)\n",
    "#valid_pool = Pool(x_val, y_val, cat_features=all_cat_cols)\n",
    "\n",
    "#model = CatBoostClassifier(random_state=42,\n",
    "#                           task_type=\"GPU\",\n",
    "#                           early_stopping_rounds = 150,\n",
    "#                           class_weights=list(weights_dict.values()))\n",
    "#model.fit(train_pool, eval_set=valid_pool)"
   ]
  },
  {
   "cell_type": "code",
   "execution_count": 95,
   "id": "8a75c7aa",
   "metadata": {
    "scrolled": true
   },
   "outputs": [],
   "source": [
    "#weighted_roc_auc(y_val, model.predict_proba(valid_pool), model.classes_, weights_dict)"
   ]
  },
  {
   "cell_type": "code",
   "execution_count": null,
   "id": "d74fc51c",
   "metadata": {},
   "outputs": [],
   "source": []
  },
  {
   "cell_type": "code",
   "execution_count": null,
   "id": "aee233bf",
   "metadata": {},
   "outputs": [],
   "source": []
  },
  {
   "cell_type": "markdown",
   "id": "4b5a00bc",
   "metadata": {},
   "source": [
    "## треним модельку на двух этапах"
   ]
  },
  {
   "cell_type": "code",
   "execution_count": 41,
   "id": "8294c09a",
   "metadata": {},
   "outputs": [],
   "source": [
    "X = pd.concat(xs_two_stages)\n",
    "\n",
    "y = ys_two_stages.copy()\n",
    "x_train, x_val, y_train, y_val = train_test_split(X, y,\n",
    "                                                  test_size=0.2,\n",
    "                                                  random_state=42, \n",
    "                                                  stratify=y)\n",
    "\n",
    "\n",
    "cat_cols = [\n",
    "    \"channel_code\", \"city\", \"city_type\",\n",
    "    \"okved\", \"segment\", \"start_cluster\",\n",
    "    \"index_city_code\", \"ogrn_month\", \"ogrn_year\",\n",
    "]\n",
    "all_cat_cols2 = []\n",
    "\n",
    "for i in range(2):\n",
    "    for j in cat_cols:\n",
    "        all_cat_cols2.append(f\"{i}_{j}\")\n",
    "\n",
    "all_cat_cols2.remove(\"1_start_cluster\")"
   ]
  },
  {
   "cell_type": "code",
   "execution_count": 42,
   "id": "85071a28",
   "metadata": {
    "scrolled": true
   },
   "outputs": [
    {
     "name": "stdout",
     "output_type": "stream",
     "text": [
      "Learning rate set to 0.175569\n",
      "0:\tlearn: 1.3674723\ttest: 1.3686691\tbest: 1.3686691 (0)\ttotal: 31ms\tremaining: 30.9s\n",
      "1:\tlearn: 1.1952516\ttest: 1.1958936\tbest: 1.1958936 (1)\ttotal: 62.9ms\tremaining: 31.4s\n",
      "2:\tlearn: 1.0806240\ttest: 1.0808162\tbest: 1.0808162 (2)\ttotal: 94.2ms\tremaining: 31.3s\n",
      "3:\tlearn: 1.0031998\ttest: 1.0034104\tbest: 1.0034104 (3)\ttotal: 126ms\tremaining: 31.3s\n",
      "4:\tlearn: 0.9421761\ttest: 0.9427464\tbest: 0.9427464 (4)\ttotal: 161ms\tremaining: 32s\n",
      "5:\tlearn: 0.8965048\ttest: 0.8972166\tbest: 0.8972166 (5)\ttotal: 191ms\tremaining: 31.6s\n",
      "6:\tlearn: 0.8606656\ttest: 0.8616737\tbest: 0.8616737 (6)\ttotal: 223ms\tremaining: 31.6s\n",
      "7:\tlearn: 0.8316112\ttest: 0.8330654\tbest: 0.8330654 (7)\ttotal: 255ms\tremaining: 31.6s\n",
      "8:\tlearn: 0.8072425\ttest: 0.8090235\tbest: 0.8090235 (8)\ttotal: 290ms\tremaining: 31.9s\n",
      "9:\tlearn: 0.7884613\ttest: 0.7909023\tbest: 0.7909023 (9)\ttotal: 325ms\tremaining: 32.2s\n",
      "10:\tlearn: 0.7729905\ttest: 0.7759815\tbest: 0.7759815 (10)\ttotal: 360ms\tremaining: 32.4s\n",
      "11:\tlearn: 0.7591956\ttest: 0.7624935\tbest: 0.7624935 (11)\ttotal: 389ms\tremaining: 32.1s\n",
      "12:\tlearn: 0.7485089\ttest: 0.7522087\tbest: 0.7522087 (12)\ttotal: 425ms\tremaining: 32.3s\n",
      "13:\tlearn: 0.7392969\ttest: 0.7434843\tbest: 0.7434843 (13)\ttotal: 456ms\tremaining: 32.1s\n",
      "14:\tlearn: 0.7329115\ttest: 0.7373044\tbest: 0.7373044 (14)\ttotal: 485ms\tremaining: 31.9s\n",
      "15:\tlearn: 0.7269125\ttest: 0.7315686\tbest: 0.7315686 (15)\ttotal: 517ms\tremaining: 31.8s\n",
      "16:\tlearn: 0.7214543\ttest: 0.7264324\tbest: 0.7264324 (16)\ttotal: 552ms\tremaining: 31.9s\n",
      "17:\tlearn: 0.7175064\ttest: 0.7226358\tbest: 0.7226358 (17)\ttotal: 580ms\tremaining: 31.6s\n",
      "18:\tlearn: 0.7131553\ttest: 0.7186873\tbest: 0.7186873 (18)\ttotal: 614ms\tremaining: 31.7s\n",
      "19:\tlearn: 0.7092647\ttest: 0.7153726\tbest: 0.7153726 (19)\ttotal: 649ms\tremaining: 31.8s\n",
      "20:\tlearn: 0.7054453\ttest: 0.7120566\tbest: 0.7120566 (20)\ttotal: 681ms\tremaining: 31.7s\n",
      "21:\tlearn: 0.7026873\ttest: 0.7095996\tbest: 0.7095996 (21)\ttotal: 713ms\tremaining: 31.7s\n",
      "22:\tlearn: 0.7007946\ttest: 0.7077184\tbest: 0.7077184 (22)\ttotal: 736ms\tremaining: 31.3s\n",
      "23:\tlearn: 0.6988760\ttest: 0.7061425\tbest: 0.7061425 (23)\ttotal: 766ms\tremaining: 31.2s\n",
      "24:\tlearn: 0.6973362\ttest: 0.7047164\tbest: 0.7047164 (24)\ttotal: 794ms\tremaining: 31s\n",
      "25:\tlearn: 0.6950553\ttest: 0.7027715\tbest: 0.7027715 (25)\ttotal: 826ms\tremaining: 31s\n",
      "26:\tlearn: 0.6932986\ttest: 0.7014233\tbest: 0.7014233 (26)\ttotal: 858ms\tremaining: 30.9s\n",
      "27:\tlearn: 0.6916575\ttest: 0.7002305\tbest: 0.7002305 (27)\ttotal: 890ms\tremaining: 30.9s\n",
      "28:\tlearn: 0.6895532\ttest: 0.6986366\tbest: 0.6986366 (28)\ttotal: 923ms\tremaining: 30.9s\n",
      "29:\tlearn: 0.6883932\ttest: 0.6977596\tbest: 0.6977596 (29)\ttotal: 952ms\tremaining: 30.8s\n",
      "30:\tlearn: 0.6867445\ttest: 0.6964168\tbest: 0.6964168 (30)\ttotal: 986ms\tremaining: 30.8s\n",
      "31:\tlearn: 0.6852640\ttest: 0.6951415\tbest: 0.6951415 (31)\ttotal: 1.02s\tremaining: 30.8s\n",
      "32:\tlearn: 0.6842643\ttest: 0.6944493\tbest: 0.6944493 (32)\ttotal: 1.05s\tremaining: 30.8s\n",
      "33:\tlearn: 0.6827011\ttest: 0.6934959\tbest: 0.6934959 (33)\ttotal: 1.08s\tremaining: 30.7s\n",
      "34:\tlearn: 0.6809129\ttest: 0.6921523\tbest: 0.6921523 (34)\ttotal: 1.11s\tremaining: 30.7s\n",
      "35:\tlearn: 0.6800322\ttest: 0.6915216\tbest: 0.6915216 (35)\ttotal: 1.14s\tremaining: 30.6s\n",
      "36:\tlearn: 0.6793546\ttest: 0.6910321\tbest: 0.6910321 (36)\ttotal: 1.17s\tremaining: 30.6s\n",
      "37:\tlearn: 0.6785076\ttest: 0.6905700\tbest: 0.6905700 (37)\ttotal: 1.21s\tremaining: 30.5s\n",
      "38:\tlearn: 0.6776821\ttest: 0.6900427\tbest: 0.6900427 (38)\ttotal: 1.24s\tremaining: 30.5s\n",
      "39:\tlearn: 0.6766692\ttest: 0.6892371\tbest: 0.6892371 (39)\ttotal: 1.27s\tremaining: 30.4s\n",
      "40:\tlearn: 0.6757236\ttest: 0.6885367\tbest: 0.6885367 (40)\ttotal: 1.3s\tremaining: 30.4s\n",
      "41:\tlearn: 0.6749328\ttest: 0.6880378\tbest: 0.6880378 (41)\ttotal: 1.33s\tremaining: 30.4s\n",
      "42:\tlearn: 0.6743140\ttest: 0.6878002\tbest: 0.6878002 (42)\ttotal: 1.36s\tremaining: 30.3s\n",
      "43:\tlearn: 0.6734474\ttest: 0.6872971\tbest: 0.6872971 (43)\ttotal: 1.4s\tremaining: 30.3s\n",
      "44:\tlearn: 0.6724669\ttest: 0.6867146\tbest: 0.6867146 (44)\ttotal: 1.43s\tremaining: 30.4s\n",
      "45:\tlearn: 0.6718749\ttest: 0.6863424\tbest: 0.6863424 (45)\ttotal: 1.46s\tremaining: 30.3s\n",
      "46:\tlearn: 0.6712326\ttest: 0.6860739\tbest: 0.6860739 (46)\ttotal: 1.49s\tremaining: 30.2s\n",
      "47:\tlearn: 0.6705325\ttest: 0.6856815\tbest: 0.6856815 (47)\ttotal: 1.52s\tremaining: 30.1s\n",
      "48:\tlearn: 0.6698596\ttest: 0.6852816\tbest: 0.6852816 (48)\ttotal: 1.55s\tremaining: 30.1s\n",
      "49:\tlearn: 0.6691903\ttest: 0.6849348\tbest: 0.6849348 (49)\ttotal: 1.58s\tremaining: 30s\n",
      "50:\tlearn: 0.6683061\ttest: 0.6843977\tbest: 0.6843977 (50)\ttotal: 1.61s\tremaining: 30s\n",
      "51:\tlearn: 0.6677985\ttest: 0.6839461\tbest: 0.6839461 (51)\ttotal: 1.64s\tremaining: 29.9s\n",
      "52:\tlearn: 0.6673611\ttest: 0.6837628\tbest: 0.6837628 (52)\ttotal: 1.67s\tremaining: 29.8s\n",
      "53:\tlearn: 0.6669949\ttest: 0.6834648\tbest: 0.6834648 (53)\ttotal: 1.69s\tremaining: 29.7s\n",
      "54:\tlearn: 0.6664424\ttest: 0.6831764\tbest: 0.6831764 (54)\ttotal: 1.72s\tremaining: 29.6s\n",
      "55:\tlearn: 0.6657380\ttest: 0.6827814\tbest: 0.6827814 (55)\ttotal: 1.76s\tremaining: 29.6s\n",
      "56:\tlearn: 0.6652770\ttest: 0.6826228\tbest: 0.6826228 (56)\ttotal: 1.79s\tremaining: 29.6s\n",
      "57:\tlearn: 0.6648936\ttest: 0.6824065\tbest: 0.6824065 (57)\ttotal: 1.81s\tremaining: 29.5s\n",
      "58:\tlearn: 0.6645484\ttest: 0.6822417\tbest: 0.6822417 (58)\ttotal: 1.84s\tremaining: 29.4s\n",
      "59:\tlearn: 0.6643096\ttest: 0.6821579\tbest: 0.6821579 (59)\ttotal: 1.86s\tremaining: 29.2s\n",
      "60:\tlearn: 0.6635933\ttest: 0.6817959\tbest: 0.6817959 (60)\ttotal: 1.9s\tremaining: 29.2s\n",
      "61:\tlearn: 0.6630439\ttest: 0.6814820\tbest: 0.6814820 (61)\ttotal: 1.93s\tremaining: 29.2s\n",
      "62:\tlearn: 0.6624881\ttest: 0.6812118\tbest: 0.6812118 (62)\ttotal: 1.96s\tremaining: 29.2s\n",
      "63:\tlearn: 0.6618905\ttest: 0.6809910\tbest: 0.6809910 (63)\ttotal: 1.99s\tremaining: 29.2s\n",
      "64:\tlearn: 0.6612828\ttest: 0.6806980\tbest: 0.6806980 (64)\ttotal: 2.02s\tremaining: 29.1s\n",
      "65:\tlearn: 0.6608833\ttest: 0.6807196\tbest: 0.6806980 (64)\ttotal: 2.05s\tremaining: 29.1s\n",
      "66:\tlearn: 0.6605994\ttest: 0.6806591\tbest: 0.6806591 (66)\ttotal: 2.08s\tremaining: 29s\n",
      "67:\tlearn: 0.6602909\ttest: 0.6806268\tbest: 0.6806268 (67)\ttotal: 2.11s\tremaining: 28.9s\n",
      "68:\tlearn: 0.6600309\ttest: 0.6805209\tbest: 0.6805209 (68)\ttotal: 2.13s\tremaining: 28.8s\n",
      "69:\tlearn: 0.6593685\ttest: 0.6801807\tbest: 0.6801807 (69)\ttotal: 2.17s\tremaining: 28.8s\n",
      "70:\tlearn: 0.6588475\ttest: 0.6799422\tbest: 0.6799422 (70)\ttotal: 2.19s\tremaining: 28.7s\n",
      "71:\tlearn: 0.6584836\ttest: 0.6798057\tbest: 0.6798057 (71)\ttotal: 2.22s\tremaining: 28.7s\n",
      "72:\tlearn: 0.6582308\ttest: 0.6797056\tbest: 0.6797056 (72)\ttotal: 2.25s\tremaining: 28.6s\n",
      "73:\tlearn: 0.6576959\ttest: 0.6795462\tbest: 0.6795462 (73)\ttotal: 2.28s\tremaining: 28.5s\n",
      "74:\tlearn: 0.6574794\ttest: 0.6795132\tbest: 0.6795132 (74)\ttotal: 2.31s\tremaining: 28.5s\n",
      "75:\tlearn: 0.6571759\ttest: 0.6792942\tbest: 0.6792942 (75)\ttotal: 2.33s\tremaining: 28.4s\n",
      "76:\tlearn: 0.6568452\ttest: 0.6791576\tbest: 0.6791576 (76)\ttotal: 2.36s\tremaining: 28.3s\n",
      "77:\tlearn: 0.6563929\ttest: 0.6788367\tbest: 0.6788367 (77)\ttotal: 2.39s\tremaining: 28.2s\n",
      "78:\tlearn: 0.6560636\ttest: 0.6787883\tbest: 0.6787883 (78)\ttotal: 2.42s\tremaining: 28.2s\n",
      "79:\tlearn: 0.6557385\ttest: 0.6786443\tbest: 0.6786443 (79)\ttotal: 2.45s\tremaining: 28.1s\n",
      "80:\tlearn: 0.6554688\ttest: 0.6785819\tbest: 0.6785819 (80)\ttotal: 2.48s\tremaining: 28.1s\n",
      "81:\tlearn: 0.6550627\ttest: 0.6783251\tbest: 0.6783251 (81)\ttotal: 2.5s\tremaining: 28s\n",
      "82:\tlearn: 0.6548419\ttest: 0.6782088\tbest: 0.6782088 (82)\ttotal: 2.53s\tremaining: 27.9s\n",
      "83:\tlearn: 0.6546738\ttest: 0.6781703\tbest: 0.6781703 (83)\ttotal: 2.56s\tremaining: 27.9s\n",
      "84:\tlearn: 0.6544791\ttest: 0.6780667\tbest: 0.6780667 (84)\ttotal: 2.58s\tremaining: 27.8s\n",
      "85:\tlearn: 0.6543210\ttest: 0.6780428\tbest: 0.6780428 (85)\ttotal: 2.61s\tremaining: 27.7s\n",
      "86:\tlearn: 0.6540508\ttest: 0.6779450\tbest: 0.6779450 (86)\ttotal: 2.63s\tremaining: 27.6s\n",
      "87:\tlearn: 0.6538008\ttest: 0.6778659\tbest: 0.6778659 (87)\ttotal: 2.66s\tremaining: 27.5s\n",
      "88:\tlearn: 0.6536559\ttest: 0.6778513\tbest: 0.6778513 (88)\ttotal: 2.69s\tremaining: 27.5s\n",
      "89:\tlearn: 0.6533394\ttest: 0.6776588\tbest: 0.6776588 (89)\ttotal: 2.71s\tremaining: 27.4s\n",
      "90:\tlearn: 0.6531574\ttest: 0.6776414\tbest: 0.6776414 (90)\ttotal: 2.74s\tremaining: 27.4s\n",
      "91:\tlearn: 0.6527678\ttest: 0.6773901\tbest: 0.6773901 (91)\ttotal: 2.77s\tremaining: 27.3s\n",
      "92:\tlearn: 0.6524323\ttest: 0.6772130\tbest: 0.6772130 (92)\ttotal: 2.8s\tremaining: 27.3s\n",
      "93:\tlearn: 0.6520376\ttest: 0.6770544\tbest: 0.6770544 (93)\ttotal: 2.83s\tremaining: 27.2s\n",
      "94:\tlearn: 0.6517341\ttest: 0.6770138\tbest: 0.6770138 (94)\ttotal: 2.85s\tremaining: 27.2s\n",
      "95:\tlearn: 0.6514467\ttest: 0.6769381\tbest: 0.6769381 (95)\ttotal: 2.88s\tremaining: 27.2s\n",
      "96:\tlearn: 0.6509410\ttest: 0.6766664\tbest: 0.6766664 (96)\ttotal: 2.92s\tremaining: 27.1s\n",
      "97:\tlearn: 0.6506866\ttest: 0.6765517\tbest: 0.6765517 (97)\ttotal: 2.94s\tremaining: 27.1s\n",
      "98:\tlearn: 0.6503934\ttest: 0.6764194\tbest: 0.6764194 (98)\ttotal: 2.97s\tremaining: 27.1s\n",
      "99:\tlearn: 0.6502893\ttest: 0.6763856\tbest: 0.6763856 (99)\ttotal: 3s\tremaining: 27s\n",
      "100:\tlearn: 0.6501268\ttest: 0.6762826\tbest: 0.6762826 (100)\ttotal: 3.03s\tremaining: 26.9s\n",
      "101:\tlearn: 0.6499759\ttest: 0.6762168\tbest: 0.6762168 (101)\ttotal: 3.05s\tremaining: 26.9s\n",
      "102:\tlearn: 0.6492922\ttest: 0.6758791\tbest: 0.6758791 (102)\ttotal: 3.08s\tremaining: 26.9s\n",
      "103:\tlearn: 0.6490355\ttest: 0.6757732\tbest: 0.6757732 (103)\ttotal: 3.11s\tremaining: 26.8s\n",
      "104:\tlearn: 0.6487477\ttest: 0.6755687\tbest: 0.6755687 (104)\ttotal: 3.14s\tremaining: 26.8s\n",
      "105:\tlearn: 0.6485502\ttest: 0.6755712\tbest: 0.6755687 (104)\ttotal: 3.17s\tremaining: 26.7s\n",
      "106:\tlearn: 0.6482057\ttest: 0.6754542\tbest: 0.6754542 (106)\ttotal: 3.2s\tremaining: 26.7s\n",
      "107:\tlearn: 0.6479697\ttest: 0.6754297\tbest: 0.6754297 (107)\ttotal: 3.23s\tremaining: 26.6s\n",
      "108:\tlearn: 0.6476203\ttest: 0.6753679\tbest: 0.6753679 (108)\ttotal: 3.26s\tremaining: 26.6s\n",
      "109:\tlearn: 0.6474527\ttest: 0.6752922\tbest: 0.6752922 (109)\ttotal: 3.28s\tremaining: 26.6s\n",
      "110:\tlearn: 0.6473108\ttest: 0.6751679\tbest: 0.6751679 (110)\ttotal: 3.31s\tremaining: 26.5s\n",
      "111:\tlearn: 0.6471372\ttest: 0.6751088\tbest: 0.6751088 (111)\ttotal: 3.33s\tremaining: 26.4s\n",
      "112:\tlearn: 0.6469507\ttest: 0.6750974\tbest: 0.6750974 (112)\ttotal: 3.36s\tremaining: 26.4s\n",
      "113:\tlearn: 0.6465498\ttest: 0.6750020\tbest: 0.6750020 (113)\ttotal: 3.39s\tremaining: 26.4s\n",
      "114:\tlearn: 0.6462772\ttest: 0.6749712\tbest: 0.6749712 (114)\ttotal: 3.42s\tremaining: 26.3s\n",
      "115:\tlearn: 0.6460749\ttest: 0.6749513\tbest: 0.6749513 (115)\ttotal: 3.45s\tremaining: 26.3s\n",
      "116:\tlearn: 0.6458468\ttest: 0.6748548\tbest: 0.6748548 (116)\ttotal: 3.47s\tremaining: 26.2s\n",
      "117:\tlearn: 0.6456418\ttest: 0.6747991\tbest: 0.6747991 (117)\ttotal: 3.5s\tremaining: 26.1s\n",
      "118:\tlearn: 0.6454136\ttest: 0.6748081\tbest: 0.6747991 (117)\ttotal: 3.53s\tremaining: 26.1s\n",
      "119:\tlearn: 0.6447804\ttest: 0.6744120\tbest: 0.6744120 (119)\ttotal: 3.56s\tremaining: 26.1s\n",
      "120:\tlearn: 0.6446070\ttest: 0.6743463\tbest: 0.6743463 (120)\ttotal: 3.58s\tremaining: 26s\n",
      "121:\tlearn: 0.6443464\ttest: 0.6743417\tbest: 0.6743417 (121)\ttotal: 3.61s\tremaining: 26s\n",
      "122:\tlearn: 0.6442060\ttest: 0.6743500\tbest: 0.6743417 (121)\ttotal: 3.64s\tremaining: 25.9s\n",
      "123:\tlearn: 0.6439275\ttest: 0.6743443\tbest: 0.6743417 (121)\ttotal: 3.66s\tremaining: 25.9s\n",
      "124:\tlearn: 0.6433264\ttest: 0.6740392\tbest: 0.6740392 (124)\ttotal: 3.7s\tremaining: 25.9s\n",
      "125:\tlearn: 0.6427745\ttest: 0.6737861\tbest: 0.6737861 (125)\ttotal: 3.73s\tremaining: 25.9s\n",
      "126:\tlearn: 0.6425412\ttest: 0.6736708\tbest: 0.6736708 (126)\ttotal: 3.76s\tremaining: 25.8s\n",
      "127:\tlearn: 0.6424031\ttest: 0.6736333\tbest: 0.6736333 (127)\ttotal: 3.78s\tremaining: 25.8s\n",
      "128:\tlearn: 0.6420489\ttest: 0.6735843\tbest: 0.6735843 (128)\ttotal: 3.81s\tremaining: 25.8s\n",
      "129:\tlearn: 0.6415993\ttest: 0.6733664\tbest: 0.6733664 (129)\ttotal: 3.85s\tremaining: 25.7s\n",
      "130:\tlearn: 0.6411015\ttest: 0.6731435\tbest: 0.6731435 (130)\ttotal: 3.88s\tremaining: 25.8s\n",
      "131:\tlearn: 0.6408204\ttest: 0.6730575\tbest: 0.6730575 (131)\ttotal: 3.91s\tremaining: 25.7s\n",
      "132:\tlearn: 0.6405848\ttest: 0.6730250\tbest: 0.6730250 (132)\ttotal: 3.94s\tremaining: 25.7s\n",
      "133:\tlearn: 0.6405021\ttest: 0.6729986\tbest: 0.6729986 (133)\ttotal: 3.96s\tremaining: 25.6s\n",
      "134:\tlearn: 0.6399821\ttest: 0.6727803\tbest: 0.6727803 (134)\ttotal: 4s\tremaining: 25.6s\n",
      "135:\tlearn: 0.6398169\ttest: 0.6726760\tbest: 0.6726760 (135)\ttotal: 4.02s\tremaining: 25.5s\n",
      "136:\tlearn: 0.6397096\ttest: 0.6726331\tbest: 0.6726331 (136)\ttotal: 4.04s\tremaining: 25.5s\n",
      "137:\tlearn: 0.6395970\ttest: 0.6725645\tbest: 0.6725645 (137)\ttotal: 4.07s\tremaining: 25.4s\n",
      "138:\tlearn: 0.6394569\ttest: 0.6725709\tbest: 0.6725645 (137)\ttotal: 4.1s\tremaining: 25.4s\n",
      "139:\tlearn: 0.6393347\ttest: 0.6725067\tbest: 0.6725067 (139)\ttotal: 4.12s\tremaining: 25.3s\n",
      "140:\tlearn: 0.6390845\ttest: 0.6724963\tbest: 0.6724963 (140)\ttotal: 4.15s\tremaining: 25.3s\n",
      "141:\tlearn: 0.6389868\ttest: 0.6724812\tbest: 0.6724812 (141)\ttotal: 4.18s\tremaining: 25.2s\n",
      "142:\tlearn: 0.6387352\ttest: 0.6724777\tbest: 0.6724777 (142)\ttotal: 4.21s\tremaining: 25.2s\n",
      "143:\tlearn: 0.6385306\ttest: 0.6724498\tbest: 0.6724498 (143)\ttotal: 4.23s\tremaining: 25.2s\n",
      "144:\tlearn: 0.6382547\ttest: 0.6724015\tbest: 0.6724015 (144)\ttotal: 4.26s\tremaining: 25.1s\n",
      "145:\tlearn: 0.6379554\ttest: 0.6722356\tbest: 0.6722356 (145)\ttotal: 4.29s\tremaining: 25.1s\n",
      "146:\tlearn: 0.6377928\ttest: 0.6722392\tbest: 0.6722356 (145)\ttotal: 4.32s\tremaining: 25.1s\n",
      "147:\tlearn: 0.6376566\ttest: 0.6721745\tbest: 0.6721745 (147)\ttotal: 4.34s\tremaining: 25s\n",
      "148:\tlearn: 0.6373506\ttest: 0.6720936\tbest: 0.6720936 (148)\ttotal: 4.37s\tremaining: 25s\n",
      "149:\tlearn: 0.6371387\ttest: 0.6720573\tbest: 0.6720573 (149)\ttotal: 4.4s\tremaining: 24.9s\n",
      "150:\tlearn: 0.6368072\ttest: 0.6719418\tbest: 0.6719418 (150)\ttotal: 4.43s\tremaining: 24.9s\n",
      "151:\tlearn: 0.6365163\ttest: 0.6719391\tbest: 0.6719391 (151)\ttotal: 4.46s\tremaining: 24.9s\n",
      "152:\tlearn: 0.6362681\ttest: 0.6718526\tbest: 0.6718526 (152)\ttotal: 4.49s\tremaining: 24.9s\n",
      "153:\tlearn: 0.6357437\ttest: 0.6716586\tbest: 0.6716586 (153)\ttotal: 4.53s\tremaining: 24.9s\n",
      "154:\tlearn: 0.6355653\ttest: 0.6715990\tbest: 0.6715990 (154)\ttotal: 4.55s\tremaining: 24.8s\n",
      "155:\tlearn: 0.6352683\ttest: 0.6715491\tbest: 0.6715491 (155)\ttotal: 4.58s\tremaining: 24.8s\n",
      "156:\tlearn: 0.6351496\ttest: 0.6715576\tbest: 0.6715491 (155)\ttotal: 4.61s\tremaining: 24.7s\n",
      "157:\tlearn: 0.6348426\ttest: 0.6714927\tbest: 0.6714927 (157)\ttotal: 4.64s\tremaining: 24.7s\n",
      "158:\tlearn: 0.6344588\ttest: 0.6714912\tbest: 0.6714912 (158)\ttotal: 4.67s\tremaining: 24.7s\n",
      "159:\tlearn: 0.6343542\ttest: 0.6714717\tbest: 0.6714717 (159)\ttotal: 4.69s\tremaining: 24.6s\n",
      "160:\tlearn: 0.6341320\ttest: 0.6713782\tbest: 0.6713782 (160)\ttotal: 4.72s\tremaining: 24.6s\n",
      "161:\tlearn: 0.6340062\ttest: 0.6713448\tbest: 0.6713448 (161)\ttotal: 4.75s\tremaining: 24.6s\n",
      "162:\tlearn: 0.6338409\ttest: 0.6713353\tbest: 0.6713353 (162)\ttotal: 4.78s\tremaining: 24.5s\n",
      "163:\tlearn: 0.6336119\ttest: 0.6712981\tbest: 0.6712981 (163)\ttotal: 4.8s\tremaining: 24.5s\n",
      "164:\tlearn: 0.6334667\ttest: 0.6713127\tbest: 0.6712981 (163)\ttotal: 4.83s\tremaining: 24.4s\n",
      "165:\tlearn: 0.6332032\ttest: 0.6712875\tbest: 0.6712875 (165)\ttotal: 4.86s\tremaining: 24.4s\n",
      "166:\tlearn: 0.6327360\ttest: 0.6710980\tbest: 0.6710980 (166)\ttotal: 4.89s\tremaining: 24.4s\n",
      "167:\tlearn: 0.6324333\ttest: 0.6709959\tbest: 0.6709959 (167)\ttotal: 4.92s\tremaining: 24.4s\n",
      "168:\tlearn: 0.6323677\ttest: 0.6709700\tbest: 0.6709700 (168)\ttotal: 4.95s\tremaining: 24.3s\n",
      "169:\tlearn: 0.6321559\ttest: 0.6709557\tbest: 0.6709557 (169)\ttotal: 4.98s\tremaining: 24.3s\n",
      "170:\tlearn: 0.6320297\ttest: 0.6709387\tbest: 0.6709387 (170)\ttotal: 5s\tremaining: 24.3s\n",
      "171:\tlearn: 0.6319028\ttest: 0.6709558\tbest: 0.6709387 (170)\ttotal: 5.03s\tremaining: 24.2s\n",
      "172:\tlearn: 0.6317648\ttest: 0.6709416\tbest: 0.6709387 (170)\ttotal: 5.06s\tremaining: 24.2s\n",
      "173:\tlearn: 0.6313386\ttest: 0.6708225\tbest: 0.6708225 (173)\ttotal: 5.09s\tremaining: 24.2s\n",
      "174:\tlearn: 0.6311801\ttest: 0.6708667\tbest: 0.6708225 (173)\ttotal: 5.12s\tremaining: 24.1s\n",
      "175:\tlearn: 0.6310031\ttest: 0.6708828\tbest: 0.6708225 (173)\ttotal: 5.14s\tremaining: 24.1s\n",
      "176:\tlearn: 0.6309592\ttest: 0.6708412\tbest: 0.6708225 (173)\ttotal: 5.17s\tremaining: 24s\n",
      "177:\tlearn: 0.6307647\ttest: 0.6708281\tbest: 0.6708225 (173)\ttotal: 5.19s\tremaining: 24s\n",
      "178:\tlearn: 0.6306763\ttest: 0.6708053\tbest: 0.6708053 (178)\ttotal: 5.22s\tremaining: 23.9s\n",
      "179:\tlearn: 0.6305724\ttest: 0.6707961\tbest: 0.6707961 (179)\ttotal: 5.24s\tremaining: 23.9s\n",
      "180:\tlearn: 0.6303481\ttest: 0.6707470\tbest: 0.6707470 (180)\ttotal: 5.27s\tremaining: 23.9s\n",
      "181:\tlearn: 0.6302512\ttest: 0.6707035\tbest: 0.6707035 (181)\ttotal: 5.3s\tremaining: 23.8s\n",
      "182:\tlearn: 0.6300757\ttest: 0.6706541\tbest: 0.6706541 (182)\ttotal: 5.32s\tremaining: 23.8s\n",
      "183:\tlearn: 0.6297914\ttest: 0.6705612\tbest: 0.6705612 (183)\ttotal: 5.35s\tremaining: 23.7s\n",
      "184:\tlearn: 0.6296462\ttest: 0.6705780\tbest: 0.6705612 (183)\ttotal: 5.38s\tremaining: 23.7s\n",
      "185:\tlearn: 0.6294754\ttest: 0.6705490\tbest: 0.6705490 (185)\ttotal: 5.4s\tremaining: 23.7s\n",
      "186:\tlearn: 0.6291739\ttest: 0.6705363\tbest: 0.6705363 (186)\ttotal: 5.43s\tremaining: 23.6s\n",
      "187:\tlearn: 0.6289736\ttest: 0.6705061\tbest: 0.6705061 (187)\ttotal: 5.46s\tremaining: 23.6s\n",
      "188:\tlearn: 0.6289003\ttest: 0.6704789\tbest: 0.6704789 (188)\ttotal: 5.48s\tremaining: 23.5s\n",
      "189:\tlearn: 0.6287254\ttest: 0.6704295\tbest: 0.6704295 (189)\ttotal: 5.51s\tremaining: 23.5s\n",
      "190:\tlearn: 0.6284719\ttest: 0.6703947\tbest: 0.6703947 (190)\ttotal: 5.54s\tremaining: 23.5s\n",
      "191:\tlearn: 0.6284018\ttest: 0.6703826\tbest: 0.6703826 (191)\ttotal: 5.57s\tremaining: 23.4s\n",
      "192:\tlearn: 0.6282740\ttest: 0.6703581\tbest: 0.6703581 (192)\ttotal: 5.59s\tremaining: 23.4s\n",
      "193:\tlearn: 0.6280989\ttest: 0.6703499\tbest: 0.6703499 (193)\ttotal: 5.62s\tremaining: 23.4s\n",
      "194:\tlearn: 0.6280007\ttest: 0.6703459\tbest: 0.6703459 (194)\ttotal: 5.65s\tremaining: 23.3s\n",
      "195:\tlearn: 0.6277035\ttest: 0.6703950\tbest: 0.6703459 (194)\ttotal: 5.68s\tremaining: 23.3s\n",
      "196:\tlearn: 0.6275571\ttest: 0.6703328\tbest: 0.6703328 (196)\ttotal: 5.71s\tremaining: 23.3s\n",
      "197:\tlearn: 0.6273996\ttest: 0.6703172\tbest: 0.6703172 (197)\ttotal: 5.73s\tremaining: 23.2s\n",
      "198:\tlearn: 0.6269998\ttest: 0.6702606\tbest: 0.6702606 (198)\ttotal: 5.76s\tremaining: 23.2s\n",
      "199:\tlearn: 0.6267706\ttest: 0.6702399\tbest: 0.6702399 (199)\ttotal: 5.8s\tremaining: 23.2s\n",
      "200:\tlearn: 0.6265891\ttest: 0.6702467\tbest: 0.6702399 (199)\ttotal: 5.83s\tremaining: 23.2s\n",
      "201:\tlearn: 0.6264716\ttest: 0.6702173\tbest: 0.6702173 (201)\ttotal: 5.85s\tremaining: 23.1s\n",
      "202:\tlearn: 0.6262754\ttest: 0.6702281\tbest: 0.6702173 (201)\ttotal: 5.88s\tremaining: 23.1s\n",
      "203:\tlearn: 0.6261737\ttest: 0.6702123\tbest: 0.6702123 (203)\ttotal: 5.9s\tremaining: 23s\n",
      "204:\tlearn: 0.6258715\ttest: 0.6701458\tbest: 0.6701458 (204)\ttotal: 5.94s\tremaining: 23s\n",
      "205:\tlearn: 0.6255751\ttest: 0.6701210\tbest: 0.6701210 (205)\ttotal: 5.97s\tremaining: 23s\n",
      "206:\tlearn: 0.6254539\ttest: 0.6701002\tbest: 0.6701002 (206)\ttotal: 5.99s\tremaining: 23s\n",
      "207:\tlearn: 0.6253265\ttest: 0.6701013\tbest: 0.6701002 (206)\ttotal: 6.02s\tremaining: 22.9s\n",
      "208:\tlearn: 0.6251078\ttest: 0.6701398\tbest: 0.6701002 (206)\ttotal: 6.05s\tremaining: 22.9s\n",
      "209:\tlearn: 0.6249264\ttest: 0.6701601\tbest: 0.6701002 (206)\ttotal: 6.08s\tremaining: 22.9s\n",
      "210:\tlearn: 0.6248115\ttest: 0.6701107\tbest: 0.6701002 (206)\ttotal: 6.1s\tremaining: 22.8s\n",
      "211:\tlearn: 0.6246662\ttest: 0.6700845\tbest: 0.6700845 (211)\ttotal: 6.13s\tremaining: 22.8s\n",
      "212:\tlearn: 0.6245445\ttest: 0.6700638\tbest: 0.6700638 (212)\ttotal: 6.15s\tremaining: 22.7s\n",
      "213:\tlearn: 0.6243448\ttest: 0.6700478\tbest: 0.6700478 (213)\ttotal: 6.18s\tremaining: 22.7s\n",
      "214:\tlearn: 0.6241572\ttest: 0.6700836\tbest: 0.6700478 (213)\ttotal: 6.21s\tremaining: 22.7s\n",
      "215:\tlearn: 0.6240001\ttest: 0.6700701\tbest: 0.6700478 (213)\ttotal: 6.24s\tremaining: 22.7s\n",
      "216:\tlearn: 0.6238902\ttest: 0.6701258\tbest: 0.6700478 (213)\ttotal: 6.27s\tremaining: 22.6s\n",
      "217:\tlearn: 0.6237529\ttest: 0.6700692\tbest: 0.6700478 (213)\ttotal: 6.29s\tremaining: 22.6s\n",
      "218:\tlearn: 0.6236218\ttest: 0.6700519\tbest: 0.6700478 (213)\ttotal: 6.32s\tremaining: 22.5s\n",
      "219:\tlearn: 0.6234314\ttest: 0.6700905\tbest: 0.6700478 (213)\ttotal: 6.35s\tremaining: 22.5s\n",
      "220:\tlearn: 0.6232068\ttest: 0.6700959\tbest: 0.6700478 (213)\ttotal: 6.38s\tremaining: 22.5s\n",
      "221:\tlearn: 0.6230062\ttest: 0.6700539\tbest: 0.6700478 (213)\ttotal: 6.4s\tremaining: 22.4s\n",
      "222:\tlearn: 0.6228795\ttest: 0.6700284\tbest: 0.6700284 (222)\ttotal: 6.43s\tremaining: 22.4s\n",
      "223:\tlearn: 0.6226879\ttest: 0.6699737\tbest: 0.6699737 (223)\ttotal: 6.46s\tremaining: 22.4s\n",
      "224:\tlearn: 0.6223606\ttest: 0.6699945\tbest: 0.6699737 (223)\ttotal: 6.49s\tremaining: 22.4s\n",
      "225:\tlearn: 0.6221987\ttest: 0.6700042\tbest: 0.6699737 (223)\ttotal: 6.52s\tremaining: 22.3s\n",
      "226:\tlearn: 0.6220968\ttest: 0.6700136\tbest: 0.6699737 (223)\ttotal: 6.54s\tremaining: 22.3s\n",
      "227:\tlearn: 0.6217274\ttest: 0.6698552\tbest: 0.6698552 (227)\ttotal: 6.58s\tremaining: 22.3s\n",
      "228:\tlearn: 0.6216000\ttest: 0.6698736\tbest: 0.6698552 (227)\ttotal: 6.6s\tremaining: 22.2s\n",
      "229:\tlearn: 0.6212914\ttest: 0.6697946\tbest: 0.6697946 (229)\ttotal: 6.63s\tremaining: 22.2s\n",
      "230:\tlearn: 0.6211328\ttest: 0.6697947\tbest: 0.6697946 (229)\ttotal: 6.66s\tremaining: 22.2s\n",
      "231:\tlearn: 0.6208729\ttest: 0.6697808\tbest: 0.6697808 (231)\ttotal: 6.69s\tremaining: 22.1s\n",
      "232:\tlearn: 0.6207941\ttest: 0.6697849\tbest: 0.6697808 (231)\ttotal: 6.71s\tremaining: 22.1s\n",
      "233:\tlearn: 0.6207196\ttest: 0.6697964\tbest: 0.6697808 (231)\ttotal: 6.74s\tremaining: 22.1s\n",
      "234:\tlearn: 0.6204791\ttest: 0.6698253\tbest: 0.6697808 (231)\ttotal: 6.76s\tremaining: 22s\n",
      "235:\tlearn: 0.6203710\ttest: 0.6698485\tbest: 0.6697808 (231)\ttotal: 6.79s\tremaining: 22s\n",
      "236:\tlearn: 0.6202542\ttest: 0.6698522\tbest: 0.6697808 (231)\ttotal: 6.82s\tremaining: 21.9s\n",
      "237:\tlearn: 0.6201507\ttest: 0.6698352\tbest: 0.6697808 (231)\ttotal: 6.84s\tremaining: 21.9s\n",
      "238:\tlearn: 0.6198899\ttest: 0.6697922\tbest: 0.6697808 (231)\ttotal: 6.87s\tremaining: 21.9s\n",
      "239:\tlearn: 0.6197674\ttest: 0.6698336\tbest: 0.6697808 (231)\ttotal: 6.9s\tremaining: 21.8s\n",
      "240:\tlearn: 0.6195036\ttest: 0.6697662\tbest: 0.6697662 (240)\ttotal: 6.93s\tremaining: 21.8s\n",
      "241:\tlearn: 0.6192581\ttest: 0.6697942\tbest: 0.6697662 (240)\ttotal: 6.96s\tremaining: 21.8s\n",
      "242:\tlearn: 0.6190786\ttest: 0.6697631\tbest: 0.6697631 (242)\ttotal: 6.99s\tremaining: 21.8s\n",
      "243:\tlearn: 0.6187867\ttest: 0.6697394\tbest: 0.6697394 (243)\ttotal: 7.02s\tremaining: 21.7s\n",
      "244:\tlearn: 0.6185419\ttest: 0.6696925\tbest: 0.6696925 (244)\ttotal: 7.05s\tremaining: 21.7s\n",
      "245:\tlearn: 0.6183222\ttest: 0.6696829\tbest: 0.6696829 (245)\ttotal: 7.08s\tremaining: 21.7s\n",
      "246:\tlearn: 0.6181228\ttest: 0.6696992\tbest: 0.6696829 (245)\ttotal: 7.11s\tremaining: 21.7s\n",
      "247:\tlearn: 0.6178688\ttest: 0.6696900\tbest: 0.6696829 (245)\ttotal: 7.14s\tremaining: 21.6s\n",
      "248:\tlearn: 0.6176431\ttest: 0.6697273\tbest: 0.6696829 (245)\ttotal: 7.17s\tremaining: 21.6s\n",
      "249:\tlearn: 0.6175355\ttest: 0.6697587\tbest: 0.6696829 (245)\ttotal: 7.19s\tremaining: 21.6s\n",
      "250:\tlearn: 0.6174306\ttest: 0.6697599\tbest: 0.6696829 (245)\ttotal: 7.22s\tremaining: 21.5s\n",
      "251:\tlearn: 0.6172534\ttest: 0.6697918\tbest: 0.6696829 (245)\ttotal: 7.25s\tremaining: 21.5s\n",
      "252:\tlearn: 0.6170095\ttest: 0.6697515\tbest: 0.6696829 (245)\ttotal: 7.28s\tremaining: 21.5s\n",
      "253:\tlearn: 0.6169437\ttest: 0.6697587\tbest: 0.6696829 (245)\ttotal: 7.3s\tremaining: 21.4s\n",
      "254:\tlearn: 0.6168507\ttest: 0.6697634\tbest: 0.6696829 (245)\ttotal: 7.33s\tremaining: 21.4s\n",
      "255:\tlearn: 0.6166781\ttest: 0.6697405\tbest: 0.6696829 (245)\ttotal: 7.36s\tremaining: 21.4s\n",
      "256:\tlearn: 0.6164026\ttest: 0.6696962\tbest: 0.6696829 (245)\ttotal: 7.39s\tremaining: 21.4s\n",
      "257:\tlearn: 0.6161846\ttest: 0.6696629\tbest: 0.6696629 (257)\ttotal: 7.42s\tremaining: 21.3s\n",
      "258:\tlearn: 0.6160895\ttest: 0.6696638\tbest: 0.6696629 (257)\ttotal: 7.44s\tremaining: 21.3s\n",
      "259:\tlearn: 0.6158916\ttest: 0.6696726\tbest: 0.6696629 (257)\ttotal: 7.47s\tremaining: 21.3s\n",
      "260:\tlearn: 0.6157255\ttest: 0.6695930\tbest: 0.6695930 (260)\ttotal: 7.5s\tremaining: 21.2s\n",
      "261:\tlearn: 0.6155424\ttest: 0.6695450\tbest: 0.6695450 (261)\ttotal: 7.53s\tremaining: 21.2s\n",
      "262:\tlearn: 0.6153605\ttest: 0.6695568\tbest: 0.6695450 (261)\ttotal: 7.56s\tremaining: 21.2s\n",
      "263:\tlearn: 0.6152351\ttest: 0.6695331\tbest: 0.6695331 (263)\ttotal: 7.59s\tremaining: 21.2s\n",
      "264:\tlearn: 0.6151584\ttest: 0.6695279\tbest: 0.6695279 (264)\ttotal: 7.62s\tremaining: 21.1s\n",
      "265:\tlearn: 0.6149461\ttest: 0.6694968\tbest: 0.6694968 (265)\ttotal: 7.64s\tremaining: 21.1s\n",
      "266:\tlearn: 0.6148441\ttest: 0.6695195\tbest: 0.6694968 (265)\ttotal: 7.67s\tremaining: 21.1s\n",
      "267:\tlearn: 0.6146991\ttest: 0.6695120\tbest: 0.6694968 (265)\ttotal: 7.7s\tremaining: 21s\n",
      "268:\tlearn: 0.6145001\ttest: 0.6695116\tbest: 0.6694968 (265)\ttotal: 7.73s\tremaining: 21s\n",
      "269:\tlearn: 0.6143151\ttest: 0.6694475\tbest: 0.6694475 (269)\ttotal: 7.76s\tremaining: 21s\n",
      "270:\tlearn: 0.6142152\ttest: 0.6694467\tbest: 0.6694467 (270)\ttotal: 7.78s\tremaining: 20.9s\n",
      "271:\tlearn: 0.6139666\ttest: 0.6694154\tbest: 0.6694154 (271)\ttotal: 7.81s\tremaining: 20.9s\n",
      "272:\tlearn: 0.6138137\ttest: 0.6693532\tbest: 0.6693532 (272)\ttotal: 7.84s\tremaining: 20.9s\n",
      "273:\tlearn: 0.6137301\ttest: 0.6693403\tbest: 0.6693403 (273)\ttotal: 7.87s\tremaining: 20.8s\n",
      "274:\tlearn: 0.6136078\ttest: 0.6693395\tbest: 0.6693395 (274)\ttotal: 7.89s\tremaining: 20.8s\n",
      "275:\tlearn: 0.6134189\ttest: 0.6693149\tbest: 0.6693149 (275)\ttotal: 7.92s\tremaining: 20.8s\n",
      "276:\tlearn: 0.6131266\ttest: 0.6693061\tbest: 0.6693061 (276)\ttotal: 7.96s\tremaining: 20.8s\n",
      "277:\tlearn: 0.6128561\ttest: 0.6693545\tbest: 0.6693061 (276)\ttotal: 7.99s\tremaining: 20.7s\n",
      "278:\tlearn: 0.6126570\ttest: 0.6693523\tbest: 0.6693061 (276)\ttotal: 8.02s\tremaining: 20.7s\n",
      "279:\tlearn: 0.6123815\ttest: 0.6693941\tbest: 0.6693061 (276)\ttotal: 8.04s\tremaining: 20.7s\n",
      "280:\tlearn: 0.6122459\ttest: 0.6693649\tbest: 0.6693061 (276)\ttotal: 8.07s\tremaining: 20.7s\n",
      "281:\tlearn: 0.6121814\ttest: 0.6693775\tbest: 0.6693061 (276)\ttotal: 8.1s\tremaining: 20.6s\n",
      "282:\tlearn: 0.6119820\ttest: 0.6693747\tbest: 0.6693061 (276)\ttotal: 8.13s\tremaining: 20.6s\n",
      "283:\tlearn: 0.6118638\ttest: 0.6693540\tbest: 0.6693061 (276)\ttotal: 8.15s\tremaining: 20.6s\n",
      "284:\tlearn: 0.6117607\ttest: 0.6693571\tbest: 0.6693061 (276)\ttotal: 8.18s\tremaining: 20.5s\n",
      "285:\tlearn: 0.6115988\ttest: 0.6693612\tbest: 0.6693061 (276)\ttotal: 8.21s\tremaining: 20.5s\n",
      "286:\tlearn: 0.6113579\ttest: 0.6692699\tbest: 0.6692699 (286)\ttotal: 8.24s\tremaining: 20.5s\n",
      "287:\tlearn: 0.6112452\ttest: 0.6692688\tbest: 0.6692688 (287)\ttotal: 8.27s\tremaining: 20.5s\n",
      "288:\tlearn: 0.6112254\ttest: 0.6692675\tbest: 0.6692675 (288)\ttotal: 8.3s\tremaining: 20.4s\n",
      "289:\tlearn: 0.6111740\ttest: 0.6692684\tbest: 0.6692675 (288)\ttotal: 8.32s\tremaining: 20.4s\n",
      "290:\tlearn: 0.6109736\ttest: 0.6692699\tbest: 0.6692675 (288)\ttotal: 8.35s\tremaining: 20.4s\n",
      "291:\tlearn: 0.6106884\ttest: 0.6692825\tbest: 0.6692675 (288)\ttotal: 8.38s\tremaining: 20.3s\n",
      "292:\tlearn: 0.6106197\ttest: 0.6692635\tbest: 0.6692635 (292)\ttotal: 8.41s\tremaining: 20.3s\n",
      "293:\tlearn: 0.6103192\ttest: 0.6691520\tbest: 0.6691520 (293)\ttotal: 8.44s\tremaining: 20.3s\n",
      "294:\tlearn: 0.6101184\ttest: 0.6690468\tbest: 0.6690468 (294)\ttotal: 8.47s\tremaining: 20.2s\n",
      "295:\tlearn: 0.6100498\ttest: 0.6690567\tbest: 0.6690468 (294)\ttotal: 8.49s\tremaining: 20.2s\n",
      "296:\tlearn: 0.6098470\ttest: 0.6690208\tbest: 0.6690208 (296)\ttotal: 8.52s\tremaining: 20.2s\n",
      "297:\tlearn: 0.6096802\ttest: 0.6689802\tbest: 0.6689802 (297)\ttotal: 8.55s\tremaining: 20.2s\n",
      "298:\tlearn: 0.6095643\ttest: 0.6689585\tbest: 0.6689585 (298)\ttotal: 8.58s\tremaining: 20.1s\n",
      "299:\tlearn: 0.6093859\ttest: 0.6688927\tbest: 0.6688927 (299)\ttotal: 8.61s\tremaining: 20.1s\n",
      "300:\tlearn: 0.6092625\ttest: 0.6688793\tbest: 0.6688793 (300)\ttotal: 8.64s\tremaining: 20.1s\n",
      "301:\tlearn: 0.6091450\ttest: 0.6688717\tbest: 0.6688717 (301)\ttotal: 8.66s\tremaining: 20s\n",
      "302:\tlearn: 0.6090048\ttest: 0.6688621\tbest: 0.6688621 (302)\ttotal: 8.69s\tremaining: 20s\n",
      "303:\tlearn: 0.6087840\ttest: 0.6688061\tbest: 0.6688061 (303)\ttotal: 8.72s\tremaining: 20s\n",
      "304:\tlearn: 0.6086839\ttest: 0.6687913\tbest: 0.6687913 (304)\ttotal: 8.75s\tremaining: 19.9s\n",
      "305:\tlearn: 0.6085609\ttest: 0.6687795\tbest: 0.6687795 (305)\ttotal: 8.78s\tremaining: 19.9s\n",
      "306:\tlearn: 0.6083824\ttest: 0.6687753\tbest: 0.6687753 (306)\ttotal: 8.8s\tremaining: 19.9s\n",
      "307:\tlearn: 0.6082064\ttest: 0.6687514\tbest: 0.6687514 (307)\ttotal: 8.83s\tremaining: 19.8s\n",
      "308:\tlearn: 0.6081055\ttest: 0.6687929\tbest: 0.6687514 (307)\ttotal: 8.86s\tremaining: 19.8s\n",
      "309:\tlearn: 0.6078442\ttest: 0.6687897\tbest: 0.6687514 (307)\ttotal: 8.89s\tremaining: 19.8s\n",
      "310:\tlearn: 0.6077334\ttest: 0.6687803\tbest: 0.6687514 (307)\ttotal: 8.92s\tremaining: 19.8s\n",
      "311:\tlearn: 0.6073483\ttest: 0.6688212\tbest: 0.6687514 (307)\ttotal: 8.95s\tremaining: 19.7s\n",
      "312:\tlearn: 0.6071837\ttest: 0.6688437\tbest: 0.6687514 (307)\ttotal: 8.98s\tremaining: 19.7s\n",
      "313:\tlearn: 0.6071466\ttest: 0.6688363\tbest: 0.6687514 (307)\ttotal: 9s\tremaining: 19.7s\n",
      "314:\tlearn: 0.6069556\ttest: 0.6688240\tbest: 0.6687514 (307)\ttotal: 9.03s\tremaining: 19.6s\n",
      "315:\tlearn: 0.6067712\ttest: 0.6687991\tbest: 0.6687514 (307)\ttotal: 9.06s\tremaining: 19.6s\n",
      "316:\tlearn: 0.6066479\ttest: 0.6687803\tbest: 0.6687514 (307)\ttotal: 9.09s\tremaining: 19.6s\n",
      "317:\tlearn: 0.6065537\ttest: 0.6688045\tbest: 0.6687514 (307)\ttotal: 9.12s\tremaining: 19.6s\n",
      "318:\tlearn: 0.6062842\ttest: 0.6687950\tbest: 0.6687514 (307)\ttotal: 9.15s\tremaining: 19.5s\n",
      "319:\tlearn: 0.6059804\ttest: 0.6687844\tbest: 0.6687514 (307)\ttotal: 9.18s\tremaining: 19.5s\n",
      "320:\tlearn: 0.6058331\ttest: 0.6687726\tbest: 0.6687514 (307)\ttotal: 9.21s\tremaining: 19.5s\n",
      "321:\tlearn: 0.6057030\ttest: 0.6687666\tbest: 0.6687514 (307)\ttotal: 9.24s\tremaining: 19.4s\n",
      "322:\tlearn: 0.6055678\ttest: 0.6687717\tbest: 0.6687514 (307)\ttotal: 9.26s\tremaining: 19.4s\n",
      "323:\tlearn: 0.6054779\ttest: 0.6687772\tbest: 0.6687514 (307)\ttotal: 9.29s\tremaining: 19.4s\n",
      "324:\tlearn: 0.6053307\ttest: 0.6687844\tbest: 0.6687514 (307)\ttotal: 9.32s\tremaining: 19.4s\n",
      "325:\tlearn: 0.6050491\ttest: 0.6687988\tbest: 0.6687514 (307)\ttotal: 9.35s\tremaining: 19.3s\n",
      "326:\tlearn: 0.6048110\ttest: 0.6687911\tbest: 0.6687514 (307)\ttotal: 9.38s\tremaining: 19.3s\n",
      "327:\tlearn: 0.6047673\ttest: 0.6687702\tbest: 0.6687514 (307)\ttotal: 9.4s\tremaining: 19.3s\n",
      "328:\tlearn: 0.6047140\ttest: 0.6687647\tbest: 0.6687514 (307)\ttotal: 9.43s\tremaining: 19.2s\n",
      "329:\tlearn: 0.6046045\ttest: 0.6687010\tbest: 0.6687010 (329)\ttotal: 9.46s\tremaining: 19.2s\n",
      "330:\tlearn: 0.6042060\ttest: 0.6685806\tbest: 0.6685806 (330)\ttotal: 9.49s\tremaining: 19.2s\n",
      "331:\tlearn: 0.6039512\ttest: 0.6685968\tbest: 0.6685806 (330)\ttotal: 9.52s\tremaining: 19.2s\n",
      "332:\tlearn: 0.6037357\ttest: 0.6686237\tbest: 0.6685806 (330)\ttotal: 9.55s\tremaining: 19.1s\n",
      "333:\tlearn: 0.6035543\ttest: 0.6685939\tbest: 0.6685806 (330)\ttotal: 9.58s\tremaining: 19.1s\n",
      "334:\tlearn: 0.6034348\ttest: 0.6685323\tbest: 0.6685323 (334)\ttotal: 9.61s\tremaining: 19.1s\n",
      "335:\tlearn: 0.6032786\ttest: 0.6684936\tbest: 0.6684936 (335)\ttotal: 9.64s\tremaining: 19s\n",
      "336:\tlearn: 0.6031032\ttest: 0.6684718\tbest: 0.6684718 (336)\ttotal: 9.67s\tremaining: 19s\n",
      "337:\tlearn: 0.6030309\ttest: 0.6684654\tbest: 0.6684654 (337)\ttotal: 9.69s\tremaining: 19s\n",
      "338:\tlearn: 0.6029094\ttest: 0.6684645\tbest: 0.6684645 (338)\ttotal: 9.72s\tremaining: 18.9s\n",
      "339:\tlearn: 0.6026514\ttest: 0.6684889\tbest: 0.6684645 (338)\ttotal: 9.75s\tremaining: 18.9s\n",
      "340:\tlearn: 0.6024948\ttest: 0.6684341\tbest: 0.6684341 (340)\ttotal: 9.78s\tremaining: 18.9s\n",
      "341:\tlearn: 0.6023822\ttest: 0.6684062\tbest: 0.6684062 (341)\ttotal: 9.81s\tremaining: 18.9s\n",
      "342:\tlearn: 0.6021954\ttest: 0.6683525\tbest: 0.6683525 (342)\ttotal: 9.84s\tremaining: 18.8s\n",
      "343:\tlearn: 0.6020009\ttest: 0.6683362\tbest: 0.6683362 (343)\ttotal: 9.87s\tremaining: 18.8s\n",
      "344:\tlearn: 0.6018405\ttest: 0.6683664\tbest: 0.6683362 (343)\ttotal: 9.9s\tremaining: 18.8s\n",
      "345:\tlearn: 0.6017502\ttest: 0.6683692\tbest: 0.6683362 (343)\ttotal: 9.92s\tremaining: 18.8s\n",
      "346:\tlearn: 0.6017397\ttest: 0.6683664\tbest: 0.6683362 (343)\ttotal: 9.95s\tremaining: 18.7s\n",
      "347:\tlearn: 0.6016018\ttest: 0.6684044\tbest: 0.6683362 (343)\ttotal: 9.97s\tremaining: 18.7s\n",
      "348:\tlearn: 0.6015148\ttest: 0.6683819\tbest: 0.6683362 (343)\ttotal: 10s\tremaining: 18.7s\n",
      "349:\tlearn: 0.6010997\ttest: 0.6682748\tbest: 0.6682748 (349)\ttotal: 10s\tremaining: 18.6s\n",
      "350:\tlearn: 0.6009317\ttest: 0.6682511\tbest: 0.6682511 (350)\ttotal: 10.1s\tremaining: 18.6s\n",
      "351:\tlearn: 0.6007980\ttest: 0.6682065\tbest: 0.6682065 (351)\ttotal: 10.1s\tremaining: 18.6s\n",
      "352:\tlearn: 0.6006218\ttest: 0.6681903\tbest: 0.6681903 (352)\ttotal: 10.1s\tremaining: 18.5s\n",
      "353:\tlearn: 0.6005037\ttest: 0.6682312\tbest: 0.6681903 (352)\ttotal: 10.1s\tremaining: 18.5s\n",
      "354:\tlearn: 0.6004138\ttest: 0.6682325\tbest: 0.6681903 (352)\ttotal: 10.2s\tremaining: 18.5s\n",
      "355:\tlearn: 0.6003563\ttest: 0.6682230\tbest: 0.6681903 (352)\ttotal: 10.2s\tremaining: 18.4s\n",
      "356:\tlearn: 0.6002526\ttest: 0.6682299\tbest: 0.6681903 (352)\ttotal: 10.2s\tremaining: 18.4s\n",
      "357:\tlearn: 0.5999895\ttest: 0.6683199\tbest: 0.6681903 (352)\ttotal: 10.3s\tremaining: 18.4s\n",
      "358:\tlearn: 0.5998265\ttest: 0.6682356\tbest: 0.6681903 (352)\ttotal: 10.3s\tremaining: 18.4s\n",
      "359:\tlearn: 0.5996354\ttest: 0.6682671\tbest: 0.6681903 (352)\ttotal: 10.3s\tremaining: 18.3s\n",
      "360:\tlearn: 0.5994635\ttest: 0.6682592\tbest: 0.6681903 (352)\ttotal: 10.3s\tremaining: 18.3s\n",
      "361:\tlearn: 0.5993190\ttest: 0.6682551\tbest: 0.6681903 (352)\ttotal: 10.4s\tremaining: 18.3s\n",
      "362:\tlearn: 0.5990967\ttest: 0.6682810\tbest: 0.6681903 (352)\ttotal: 10.4s\tremaining: 18.3s\n",
      "363:\tlearn: 0.5990558\ttest: 0.6682961\tbest: 0.6681903 (352)\ttotal: 10.4s\tremaining: 18.2s\n",
      "364:\tlearn: 0.5990418\ttest: 0.6683005\tbest: 0.6681903 (352)\ttotal: 10.4s\tremaining: 18.2s\n",
      "365:\tlearn: 0.5988996\ttest: 0.6683188\tbest: 0.6681903 (352)\ttotal: 10.5s\tremaining: 18.2s\n",
      "366:\tlearn: 0.5987767\ttest: 0.6683476\tbest: 0.6681903 (352)\ttotal: 10.5s\tremaining: 18.1s\n",
      "367:\tlearn: 0.5987110\ttest: 0.6683294\tbest: 0.6681903 (352)\ttotal: 10.5s\tremaining: 18.1s\n",
      "368:\tlearn: 0.5985768\ttest: 0.6683185\tbest: 0.6681903 (352)\ttotal: 10.6s\tremaining: 18.1s\n",
      "369:\tlearn: 0.5985049\ttest: 0.6682806\tbest: 0.6681903 (352)\ttotal: 10.6s\tremaining: 18s\n",
      "370:\tlearn: 0.5984591\ttest: 0.6682979\tbest: 0.6681903 (352)\ttotal: 10.6s\tremaining: 18s\n",
      "371:\tlearn: 0.5982841\ttest: 0.6683514\tbest: 0.6681903 (352)\ttotal: 10.6s\tremaining: 18s\n",
      "372:\tlearn: 0.5982121\ttest: 0.6683478\tbest: 0.6681903 (352)\ttotal: 10.7s\tremaining: 17.9s\n",
      "373:\tlearn: 0.5980983\ttest: 0.6683211\tbest: 0.6681903 (352)\ttotal: 10.7s\tremaining: 17.9s\n",
      "374:\tlearn: 0.5978758\ttest: 0.6683059\tbest: 0.6681903 (352)\ttotal: 10.7s\tremaining: 17.9s\n",
      "375:\tlearn: 0.5977962\ttest: 0.6683165\tbest: 0.6681903 (352)\ttotal: 10.8s\tremaining: 17.8s\n",
      "376:\tlearn: 0.5974122\ttest: 0.6682550\tbest: 0.6681903 (352)\ttotal: 10.8s\tremaining: 17.8s\n",
      "377:\tlearn: 0.5973351\ttest: 0.6682640\tbest: 0.6681903 (352)\ttotal: 10.8s\tremaining: 17.8s\n",
      "378:\tlearn: 0.5972067\ttest: 0.6682733\tbest: 0.6681903 (352)\ttotal: 10.8s\tremaining: 17.8s\n",
      "379:\tlearn: 0.5969742\ttest: 0.6682827\tbest: 0.6681903 (352)\ttotal: 10.9s\tremaining: 17.7s\n",
      "380:\tlearn: 0.5968184\ttest: 0.6682734\tbest: 0.6681903 (352)\ttotal: 10.9s\tremaining: 17.7s\n",
      "381:\tlearn: 0.5966332\ttest: 0.6682980\tbest: 0.6681903 (352)\ttotal: 10.9s\tremaining: 17.7s\n",
      "382:\tlearn: 0.5965714\ttest: 0.6682965\tbest: 0.6681903 (352)\ttotal: 11s\tremaining: 17.6s\n",
      "383:\tlearn: 0.5964093\ttest: 0.6682819\tbest: 0.6681903 (352)\ttotal: 11s\tremaining: 17.6s\n",
      "384:\tlearn: 0.5962719\ttest: 0.6682821\tbest: 0.6681903 (352)\ttotal: 11s\tremaining: 17.6s\n",
      "385:\tlearn: 0.5961617\ttest: 0.6683048\tbest: 0.6681903 (352)\ttotal: 11s\tremaining: 17.6s\n",
      "386:\tlearn: 0.5960203\ttest: 0.6683089\tbest: 0.6681903 (352)\ttotal: 11.1s\tremaining: 17.5s\n",
      "387:\tlearn: 0.5958669\ttest: 0.6683058\tbest: 0.6681903 (352)\ttotal: 11.1s\tremaining: 17.5s\n",
      "388:\tlearn: 0.5956611\ttest: 0.6683763\tbest: 0.6681903 (352)\ttotal: 11.1s\tremaining: 17.5s\n",
      "389:\tlearn: 0.5954842\ttest: 0.6683598\tbest: 0.6681903 (352)\ttotal: 11.2s\tremaining: 17.5s\n",
      "390:\tlearn: 0.5954119\ttest: 0.6683459\tbest: 0.6681903 (352)\ttotal: 11.2s\tremaining: 17.4s\n",
      "391:\tlearn: 0.5953262\ttest: 0.6683386\tbest: 0.6681903 (352)\ttotal: 11.2s\tremaining: 17.4s\n",
      "392:\tlearn: 0.5951269\ttest: 0.6683558\tbest: 0.6681903 (352)\ttotal: 11.2s\tremaining: 17.4s\n",
      "393:\tlearn: 0.5950187\ttest: 0.6683092\tbest: 0.6681903 (352)\ttotal: 11.3s\tremaining: 17.3s\n",
      "394:\tlearn: 0.5949374\ttest: 0.6683003\tbest: 0.6681903 (352)\ttotal: 11.3s\tremaining: 17.3s\n",
      "395:\tlearn: 0.5946237\ttest: 0.6681985\tbest: 0.6681903 (352)\ttotal: 11.3s\tremaining: 17.3s\n",
      "396:\tlearn: 0.5944641\ttest: 0.6682387\tbest: 0.6681903 (352)\ttotal: 11.4s\tremaining: 17.3s\n",
      "397:\tlearn: 0.5940441\ttest: 0.6682541\tbest: 0.6681903 (352)\ttotal: 11.4s\tremaining: 17.2s\n",
      "398:\tlearn: 0.5939017\ttest: 0.6682796\tbest: 0.6681903 (352)\ttotal: 11.4s\tremaining: 17.2s\n",
      "399:\tlearn: 0.5938408\ttest: 0.6682706\tbest: 0.6681903 (352)\ttotal: 11.5s\tremaining: 17.2s\n",
      "400:\tlearn: 0.5937868\ttest: 0.6682777\tbest: 0.6681903 (352)\ttotal: 11.5s\tremaining: 17.2s\n",
      "401:\tlearn: 0.5936479\ttest: 0.6682878\tbest: 0.6681903 (352)\ttotal: 11.5s\tremaining: 17.1s\n",
      "402:\tlearn: 0.5934336\ttest: 0.6682994\tbest: 0.6681903 (352)\ttotal: 11.5s\tremaining: 17.1s\n",
      "bestTest = 0.6681902633\n",
      "bestIteration = 352\n",
      "Shrink model to first 353 iterations.\n"
     ]
    },
    {
     "data": {
      "text/plain": [
       "<catboost.core.CatBoostClassifier at 0x19550e4e7d0>"
      ]
     },
     "execution_count": 42,
     "metadata": {},
     "output_type": "execute_result"
    },
    {
     "name": "stdout",
     "output_type": "stream",
     "text": [
      "377:\tlearn: 0.5992447\ttest: 0.6691476\tbest: 0.6689762 (367)\ttotal: 13s\tremaining: 21.3s\n",
      "378:\tlearn: 0.5991101\ttest: 0.6691555\tbest: 0.6689762 (367)\ttotal: 13s\tremaining: 21.3s\n",
      "379:\tlearn: 0.5989897\ttest: 0.6691517\tbest: 0.6689762 (367)\ttotal: 13s\tremaining: 21.2s\n",
      "380:\tlearn: 0.5987595\ttest: 0.6690241\tbest: 0.6689762 (367)\ttotal: 13.1s\tremaining: 21.2s\n",
      "381:\tlearn: 0.5983691\ttest: 0.6690089\tbest: 0.6689762 (367)\ttotal: 13.1s\tremaining: 21.2s\n",
      "382:\tlearn: 0.5982209\ttest: 0.6689830\tbest: 0.6689762 (367)\ttotal: 13.1s\tremaining: 21.2s\n",
      "383:\tlearn: 0.5981613\ttest: 0.6689691\tbest: 0.6689691 (383)\ttotal: 13.2s\tremaining: 21.1s\n",
      "384:\tlearn: 0.5979200\ttest: 0.6689643\tbest: 0.6689643 (384)\ttotal: 13.2s\tremaining: 21.1s\n",
      "385:\tlearn: 0.5976726\ttest: 0.6690157\tbest: 0.6689643 (384)\ttotal: 13.2s\tremaining: 21s\n",
      "386:\tlearn: 0.5973080\ttest: 0.6689474\tbest: 0.6689474 (386)\ttotal: 13.3s\tremaining: 21s\n",
      "387:\tlearn: 0.5971283\ttest: 0.6689120\tbest: 0.6689120 (387)\ttotal: 13.3s\tremaining: 21s\n",
      "388:\tlearn: 0.5968511\ttest: 0.6688622\tbest: 0.6688622 (388)\ttotal: 13.3s\tremaining: 21s\n",
      "389:\tlearn: 0.5967052\ttest: 0.6688725\tbest: 0.6688622 (388)\ttotal: 13.4s\tremaining: 20.9s\n",
      "390:\tlearn: 0.5965754\ttest: 0.6688875\tbest: 0.6688622 (388)\ttotal: 13.4s\tremaining: 20.9s\n",
      "391:\tlearn: 0.5965027\ttest: 0.6688749\tbest: 0.6688622 (388)\ttotal: 13.4s\tremaining: 20.9s\n",
      "392:\tlearn: 0.5963291\ttest: 0.6688385\tbest: 0.6688385 (392)\ttotal: 13.5s\tremaining: 20.8s\n",
      "393:\tlearn: 0.5962392\ttest: 0.6688590\tbest: 0.6688385 (392)\ttotal: 13.5s\tremaining: 20.8s\n",
      "394:\tlearn: 0.5961124\ttest: 0.6688335\tbest: 0.6688335 (394)\ttotal: 13.6s\tremaining: 20.8s\n",
      "395:\tlearn: 0.5959737\ttest: 0.6688285\tbest: 0.6688285 (395)\ttotal: 13.6s\tremaining: 20.7s\n",
      "396:\tlearn: 0.5959043\ttest: 0.6688426\tbest: 0.6688285 (395)\ttotal: 13.6s\tremaining: 20.7s\n",
      "397:\tlearn: 0.5956194\ttest: 0.6687280\tbest: 0.6687280 (397)\ttotal: 13.7s\tremaining: 20.7s\n",
      "398:\tlearn: 0.5954741\ttest: 0.6687393\tbest: 0.6687280 (397)\ttotal: 13.7s\tremaining: 20.6s\n",
      "399:\tlearn: 0.5952298\ttest: 0.6687631\tbest: 0.6687280 (397)\ttotal: 13.7s\tremaining: 20.6s\n",
      "400:\tlearn: 0.5950678\ttest: 0.6687249\tbest: 0.6687249 (400)\ttotal: 13.8s\tremaining: 20.6s\n",
      "401:\tlearn: 0.5949768\ttest: 0.6687170\tbest: 0.6687170 (401)\ttotal: 13.8s\tremaining: 20.5s\n",
      "402:\tlearn: 0.5948760\ttest: 0.6687034\tbest: 0.6687034 (402)\ttotal: 13.8s\tremaining: 20.5s\n",
      "403:\tlearn: 0.5947163\ttest: 0.6687002\tbest: 0.6687002 (403)\ttotal: 13.9s\tremaining: 20.5s\n",
      "404:\tlearn: 0.5945689\ttest: 0.6687068\tbest: 0.6687002 (403)\ttotal: 13.9s\tremaining: 20.4s\n",
      "405:\tlearn: 0.5944167\ttest: 0.6686911\tbest: 0.6686911 (405)\ttotal: 13.9s\tremaining: 20.4s\n",
      "406:\tlearn: 0.5941954\ttest: 0.6687129\tbest: 0.6686911 (405)\ttotal: 14s\tremaining: 20.4s\n",
      "407:\tlearn: 0.5939767\ttest: 0.6687285\tbest: 0.6686911 (405)\ttotal: 14s\tremaining: 20.3s\n",
      "408:\tlearn: 0.5938993\ttest: 0.6687204\tbest: 0.6686911 (405)\ttotal: 14s\tremaining: 20.3s\n",
      "409:\tlearn: 0.5936215\ttest: 0.6687361\tbest: 0.6686911 (405)\ttotal: 14.1s\tremaining: 20.3s\n",
      "410:\tlearn: 0.5934250\ttest: 0.6687471\tbest: 0.6686911 (405)\ttotal: 14.1s\tremaining: 20.2s\n",
      "411:\tlearn: 0.5932942\ttest: 0.6687527\tbest: 0.6686911 (405)\ttotal: 14.2s\tremaining: 20.2s\n",
      "412:\tlearn: 0.5930470\ttest: 0.6687082\tbest: 0.6686911 (405)\ttotal: 14.2s\tremaining: 20.2s\n",
      "413:\tlearn: 0.5928470\ttest: 0.6687811\tbest: 0.6686911 (405)\ttotal: 14.2s\tremaining: 20.1s\n",
      "414:\tlearn: 0.5927030\ttest: 0.6688083\tbest: 0.6686911 (405)\ttotal: 14.3s\tremaining: 20.1s\n",
      "415:\tlearn: 0.5926244\ttest: 0.6688231\tbest: 0.6686911 (405)\ttotal: 14.3s\tremaining: 20.1s\n",
      "416:\tlearn: 0.5924697\ttest: 0.6688538\tbest: 0.6686911 (405)\ttotal: 14.3s\tremaining: 20s\n",
      "417:\tlearn: 0.5922261\ttest: 0.6688268\tbest: 0.6686911 (405)\ttotal: 14.4s\tremaining: 20s\n",
      "418:\tlearn: 0.5921420\ttest: 0.6688217\tbest: 0.6686911 (405)\ttotal: 14.4s\tremaining: 20s\n",
      "419:\tlearn: 0.5919597\ttest: 0.6687997\tbest: 0.6686911 (405)\ttotal: 14.4s\tremaining: 19.9s\n",
      "420:\tlearn: 0.5917205\ttest: 0.6687919\tbest: 0.6686911 (405)\ttotal: 14.5s\tremaining: 19.9s\n",
      "421:\tlearn: 0.5916449\ttest: 0.6687776\tbest: 0.6686911 (405)\ttotal: 14.5s\tremaining: 19.9s\n",
      "422:\tlearn: 0.5915337\ttest: 0.6688251\tbest: 0.6686911 (405)\ttotal: 14.5s\tremaining: 19.8s\n",
      "423:\tlearn: 0.5913056\ttest: 0.6687817\tbest: 0.6686911 (405)\ttotal: 14.6s\tremaining: 19.8s\n",
      "424:\tlearn: 0.5911107\ttest: 0.6687725\tbest: 0.6686911 (405)\ttotal: 14.6s\tremaining: 19.8s\n",
      "425:\tlearn: 0.5909883\ttest: 0.6687768\tbest: 0.6686911 (405)\ttotal: 14.6s\tremaining: 19.7s\n",
      "426:\tlearn: 0.5908720\ttest: 0.6687668\tbest: 0.6686911 (405)\ttotal: 14.7s\tremaining: 19.7s\n",
      "427:\tlearn: 0.5906892\ttest: 0.6687777\tbest: 0.6686911 (405)\ttotal: 14.7s\tremaining: 19.7s\n",
      "428:\tlearn: 0.5905221\ttest: 0.6687958\tbest: 0.6686911 (405)\ttotal: 14.8s\tremaining: 19.6s\n",
      "429:\tlearn: 0.5904462\ttest: 0.6688314\tbest: 0.6686911 (405)\ttotal: 14.8s\tremaining: 19.6s\n",
      "430:\tlearn: 0.5903341\ttest: 0.6688109\tbest: 0.6686911 (405)\ttotal: 14.8s\tremaining: 19.6s\n",
      "431:\tlearn: 0.5902247\ttest: 0.6688286\tbest: 0.6686911 (405)\ttotal: 14.9s\tremaining: 19.5s\n",
      "432:\tlearn: 0.5901289\ttest: 0.6688462\tbest: 0.6686911 (405)\ttotal: 14.9s\tremaining: 19.5s\n",
      "433:\tlearn: 0.5900463\ttest: 0.6688581\tbest: 0.6686911 (405)\ttotal: 14.9s\tremaining: 19.5s\n",
      "434:\tlearn: 0.5898719\ttest: 0.6688593\tbest: 0.6686911 (405)\ttotal: 15s\tremaining: 19.4s\n",
      "435:\tlearn: 0.5897064\ttest: 0.6688996\tbest: 0.6686911 (405)\ttotal: 15s\tremaining: 19.4s\n",
      "436:\tlearn: 0.5895233\ttest: 0.6688949\tbest: 0.6686911 (405)\ttotal: 15s\tremaining: 19.4s\n",
      "437:\tlearn: 0.5893310\ttest: 0.6688424\tbest: 0.6686911 (405)\ttotal: 15.1s\tremaining: 19.3s\n",
      "438:\tlearn: 0.5892079\ttest: 0.6688718\tbest: 0.6686911 (405)\ttotal: 15.1s\tremaining: 19.3s\n",
      "439:\tlearn: 0.5890654\ttest: 0.6688785\tbest: 0.6686911 (405)\ttotal: 15.1s\tremaining: 19.3s\n",
      "440:\tlearn: 0.5888920\ttest: 0.6688455\tbest: 0.6686911 (405)\ttotal: 15.2s\tremaining: 19.2s\n",
      "441:\tlearn: 0.5886801\ttest: 0.6688224\tbest: 0.6686911 (405)\ttotal: 15.2s\tremaining: 19.2s\n",
      "442:\tlearn: 0.5883757\ttest: 0.6688650\tbest: 0.6686911 (405)\ttotal: 15.2s\tremaining: 19.2s\n",
      "443:\tlearn: 0.5882414\ttest: 0.6688519\tbest: 0.6686911 (405)\ttotal: 15.3s\tremaining: 19.1s\n",
      "444:\tlearn: 0.5881019\ttest: 0.6688488\tbest: 0.6686911 (405)\ttotal: 15.3s\tremaining: 19.1s\n",
      "445:\tlearn: 0.5879581\ttest: 0.6688355\tbest: 0.6686911 (405)\ttotal: 15.3s\tremaining: 19.1s\n",
      "446:\tlearn: 0.5878893\ttest: 0.6688451\tbest: 0.6686911 (405)\ttotal: 15.4s\tremaining: 19s\n",
      "447:\tlearn: 0.5877486\ttest: 0.6688276\tbest: 0.6686911 (405)\ttotal: 15.4s\tremaining: 19s\n",
      "448:\tlearn: 0.5875588\ttest: 0.6688285\tbest: 0.6686911 (405)\ttotal: 15.4s\tremaining: 19s\n",
      "449:\tlearn: 0.5873822\ttest: 0.6688643\tbest: 0.6686911 (405)\ttotal: 15.5s\tremaining: 18.9s\n",
      "450:\tlearn: 0.5872869\ttest: 0.6688804\tbest: 0.6686911 (405)\ttotal: 15.5s\tremaining: 18.9s\n",
      "451:\tlearn: 0.5871996\ttest: 0.6688899\tbest: 0.6686911 (405)\ttotal: 15.5s\tremaining: 18.9s\n",
      "452:\tlearn: 0.5871293\ttest: 0.6688903\tbest: 0.6686911 (405)\ttotal: 15.6s\tremaining: 18.8s\n",
      "453:\tlearn: 0.5869851\ttest: 0.6689162\tbest: 0.6686911 (405)\ttotal: 15.6s\tremaining: 18.8s\n",
      "454:\tlearn: 0.5868719\ttest: 0.6689415\tbest: 0.6686911 (405)\ttotal: 15.6s\tremaining: 18.7s\n",
      "455:\tlearn: 0.5867033\ttest: 0.6689440\tbest: 0.6686911 (405)\ttotal: 15.7s\tremaining: 18.7s\n",
      "bestTest = 0.6686910761\n",
      "bestIteration = 405\n",
      "Shrink model to first 406 iterations.\n"
     ]
    },
    {
     "data": {
      "text/plain": [
       "<catboost.core.CatBoostClassifier at 0x7f8a0bfb1b20>"
      ]
     },
     "execution_count": 97,
     "metadata": {},
     "output_type": "execute_result"
    }
   ],
   "source": [
    "train_pool = Pool(x_train, y_train, cat_features=all_cat_cols2)\n",
    "valid_pool = Pool(x_val, y_val, cat_features=all_cat_cols2)\n",
    "\n",
    "model2 = CatBoostClassifier(random_state=42,\n",
    "                           task_type=\"GPU\", \n",
    "                           class_weights=list(weights_dict.values()), # [weights_dict[i] for i in model.classes_], \n",
    "                           early_stopping_rounds = 50)\n",
    "model2.fit(train_pool, eval_set=valid_pool)"
   ]
  },
  {
   "cell_type": "code",
   "execution_count": null,
   "id": "00c9a7f9",
   "metadata": {},
   "outputs": [],
   "source": []
  },
  {
   "cell_type": "code",
   "execution_count": null,
   "id": "5664c3ea",
   "metadata": {},
   "outputs": [],
   "source": []
  },
  {
   "cell_type": "markdown",
   "id": "cfLFjyYHNTE4",
   "metadata": {
    "id": "cfLFjyYHNTE4"
   },
   "source": [
    "## Прогноз на тестовой выборке"
   ]
  },
  {
   "cell_type": "code",
   "execution_count": 43,
   "id": "9556a193",
   "metadata": {},
   "outputs": [],
   "source": [
    "test_df = pd.read_parquet(\"data/test_data.pqt\")\n",
    "test_df = test_df.fillna(\"#N/A\")"
   ]
  },
  {
   "cell_type": "code",
   "execution_count": 44,
   "id": "pUpqu4ueNdTO",
   "metadata": {
    "colab": {
     "base_uri": "https://localhost:8080/",
     "height": 175
    },
    "id": "pUpqu4ueNdTO",
    "outputId": "70b06bc1-8126-4d53-9d31-2d09078d74ce"
   },
   "outputs": [],
   "source": [
    "# test_df.pivot(index=\"id\", columns=\"date\", values=\"start_cluster\").head(3)"
   ]
  },
  {
   "cell_type": "code",
   "execution_count": 45,
   "id": "FbOyX_FJN8k6",
   "metadata": {
    "id": "FbOyX_FJN8k6"
   },
   "outputs": [],
   "source": [
    "# test_df[\"start_cluster\"] = train_df[\"start_cluster\"].mode()[0]\n",
    "# test_df[\"start_cluster\"] = test_df[\"start_cluster\"].astype(\"category\")"
   ]
  },
  {
   "cell_type": "code",
   "execution_count": 46,
   "id": "efc8b64a-86db-4564-af7b-be649612df82",
   "metadata": {
    "id": "efc8b64a-86db-4564-af7b-be649612df82",
    "tags": []
   },
   "outputs": [],
   "source": [
    "sample_submission_df = pd.read_csv(\"data/sample_submission.csv\")"
   ]
  },
  {
   "cell_type": "code",
   "execution_count": 47,
   "id": "bfdd5b1c",
   "metadata": {},
   "outputs": [
    {
     "data": {
      "text/html": [
       "<div>\n",
       "<style scoped>\n",
       "    .dataframe tbody tr th:only-of-type {\n",
       "        vertical-align: middle;\n",
       "    }\n",
       "\n",
       "    .dataframe tbody tr th {\n",
       "        vertical-align: top;\n",
       "    }\n",
       "\n",
       "    .dataframe thead th {\n",
       "        text-align: right;\n",
       "    }\n",
       "</style>\n",
       "<table border=\"1\" class=\"dataframe\">\n",
       "  <thead>\n",
       "    <tr style=\"text-align: right;\">\n",
       "      <th></th>\n",
       "      <th>id</th>\n",
       "      <th>{other}</th>\n",
       "      <th>{}</th>\n",
       "      <th>{α, β}</th>\n",
       "      <th>{α, γ}</th>\n",
       "      <th>{α, δ}</th>\n",
       "      <th>{α, ε, η}</th>\n",
       "      <th>{α, ε, θ}</th>\n",
       "      <th>{α, ε, ψ}</th>\n",
       "      <th>{α, ε}</th>\n",
       "      <th>{α, η}</th>\n",
       "      <th>{α, θ}</th>\n",
       "      <th>{α, λ}</th>\n",
       "      <th>{α, μ}</th>\n",
       "      <th>{α, π}</th>\n",
       "      <th>{α, ψ}</th>\n",
       "      <th>{α}</th>\n",
       "      <th>{λ}</th>\n",
       "    </tr>\n",
       "  </thead>\n",
       "  <tbody>\n",
       "    <tr>\n",
       "      <th>0</th>\n",
       "      <td>200000</td>\n",
       "      <td>0.2</td>\n",
       "      <td>0.05</td>\n",
       "      <td>0.05</td>\n",
       "      <td>0.05</td>\n",
       "      <td>0.05</td>\n",
       "      <td>0.05</td>\n",
       "      <td>0.05</td>\n",
       "      <td>0.05</td>\n",
       "      <td>0.05</td>\n",
       "      <td>0.05</td>\n",
       "      <td>0.05</td>\n",
       "      <td>0.05</td>\n",
       "      <td>0.05</td>\n",
       "      <td>0.05</td>\n",
       "      <td>0.05</td>\n",
       "      <td>0.05</td>\n",
       "      <td>0.05</td>\n",
       "    </tr>\n",
       "    <tr>\n",
       "      <th>1</th>\n",
       "      <td>200001</td>\n",
       "      <td>0.2</td>\n",
       "      <td>0.05</td>\n",
       "      <td>0.05</td>\n",
       "      <td>0.05</td>\n",
       "      <td>0.05</td>\n",
       "      <td>0.05</td>\n",
       "      <td>0.05</td>\n",
       "      <td>0.05</td>\n",
       "      <td>0.05</td>\n",
       "      <td>0.05</td>\n",
       "      <td>0.05</td>\n",
       "      <td>0.05</td>\n",
       "      <td>0.05</td>\n",
       "      <td>0.05</td>\n",
       "      <td>0.05</td>\n",
       "      <td>0.05</td>\n",
       "      <td>0.05</td>\n",
       "    </tr>\n",
       "    <tr>\n",
       "      <th>2</th>\n",
       "      <td>200002</td>\n",
       "      <td>0.2</td>\n",
       "      <td>0.05</td>\n",
       "      <td>0.05</td>\n",
       "      <td>0.05</td>\n",
       "      <td>0.05</td>\n",
       "      <td>0.05</td>\n",
       "      <td>0.05</td>\n",
       "      <td>0.05</td>\n",
       "      <td>0.05</td>\n",
       "      <td>0.05</td>\n",
       "      <td>0.05</td>\n",
       "      <td>0.05</td>\n",
       "      <td>0.05</td>\n",
       "      <td>0.05</td>\n",
       "      <td>0.05</td>\n",
       "      <td>0.05</td>\n",
       "      <td>0.05</td>\n",
       "    </tr>\n",
       "    <tr>\n",
       "      <th>3</th>\n",
       "      <td>200003</td>\n",
       "      <td>0.2</td>\n",
       "      <td>0.05</td>\n",
       "      <td>0.05</td>\n",
       "      <td>0.05</td>\n",
       "      <td>0.05</td>\n",
       "      <td>0.05</td>\n",
       "      <td>0.05</td>\n",
       "      <td>0.05</td>\n",
       "      <td>0.05</td>\n",
       "      <td>0.05</td>\n",
       "      <td>0.05</td>\n",
       "      <td>0.05</td>\n",
       "      <td>0.05</td>\n",
       "      <td>0.05</td>\n",
       "      <td>0.05</td>\n",
       "      <td>0.05</td>\n",
       "      <td>0.05</td>\n",
       "    </tr>\n",
       "    <tr>\n",
       "      <th>4</th>\n",
       "      <td>200004</td>\n",
       "      <td>0.2</td>\n",
       "      <td>0.05</td>\n",
       "      <td>0.05</td>\n",
       "      <td>0.05</td>\n",
       "      <td>0.05</td>\n",
       "      <td>0.05</td>\n",
       "      <td>0.05</td>\n",
       "      <td>0.05</td>\n",
       "      <td>0.05</td>\n",
       "      <td>0.05</td>\n",
       "      <td>0.05</td>\n",
       "      <td>0.05</td>\n",
       "      <td>0.05</td>\n",
       "      <td>0.05</td>\n",
       "      <td>0.05</td>\n",
       "      <td>0.05</td>\n",
       "      <td>0.05</td>\n",
       "    </tr>\n",
       "  </tbody>\n",
       "</table>\n",
       "</div>"
      ],
      "text/plain": [
       "       id  {other}    {}  {α, β}  {α, γ}  {α, δ}  {α, ε, η}  {α, ε, θ}  \\\n",
       "0  200000      0.2  0.05    0.05    0.05    0.05       0.05       0.05   \n",
       "1  200001      0.2  0.05    0.05    0.05    0.05       0.05       0.05   \n",
       "2  200002      0.2  0.05    0.05    0.05    0.05       0.05       0.05   \n",
       "3  200003      0.2  0.05    0.05    0.05    0.05       0.05       0.05   \n",
       "4  200004      0.2  0.05    0.05    0.05    0.05       0.05       0.05   \n",
       "\n",
       "   {α, ε, ψ}  {α, ε}  {α, η}  {α, θ}  {α, λ}  {α, μ}  {α, π}  {α, ψ}   {α}  \\\n",
       "0       0.05    0.05    0.05    0.05    0.05    0.05    0.05    0.05  0.05   \n",
       "1       0.05    0.05    0.05    0.05    0.05    0.05    0.05    0.05  0.05   \n",
       "2       0.05    0.05    0.05    0.05    0.05    0.05    0.05    0.05  0.05   \n",
       "3       0.05    0.05    0.05    0.05    0.05    0.05    0.05    0.05  0.05   \n",
       "4       0.05    0.05    0.05    0.05    0.05    0.05    0.05    0.05  0.05   \n",
       "\n",
       "    {λ}  \n",
       "0  0.05  \n",
       "1  0.05  \n",
       "2  0.05  \n",
       "3  0.05  \n",
       "4  0.05  "
      ]
     },
     "execution_count": 47,
     "metadata": {},
     "output_type": "execute_result"
    }
   ],
   "source": [
    "sample_submission_df.head()"
   ]
  },
  {
   "cell_type": "code",
   "execution_count": null,
   "id": "179d2f1f",
   "metadata": {},
   "outputs": [],
   "source": []
  },
  {
   "cell_type": "code",
   "execution_count": 48,
   "id": "609149d0",
   "metadata": {},
   "outputs": [
    {
     "name": "stderr",
     "output_type": "stream",
     "text": [
      "100%|█████████████████████████████████████████████████████████████████████████| 100000/100000 [02:50<00:00, 585.06it/s]\n"
     ]
    }
   ],
   "source": [
    "from tqdm import tqdm\n",
    "\n",
    "dct_month = {\"month_4\": \"month_1\", \"month_5\":\"month_2\", \"month_6\":\"month_3\"}\n",
    "\n",
    "xs_test = []\n",
    "test_answers = []\n",
    "\n",
    "idx_for_predict = []\n",
    "data_for_predict = []\n",
    "\n",
    "idx_for_predict_2 = []\n",
    "data_for_predict_2 = []\n",
    "\n",
    "\n",
    "cnt_months = []\n",
    "for idx, group in tqdm(test_df.groupby(\"id\")):\n",
    "    #     group[\"date\"] = group.date.map(lambda x: dct_month[x])    \n",
    "    group.drop(\"date\", axis=1, inplace=True)\n",
    "    features = pd.DataFrame(group.stack(dropna=False)).reset_index(drop=True, level=0).transpose()\n",
    "    \n",
    "    #     features = features.drop(\"end_cluster\", axis=1)\n",
    "\n",
    "    cnt_months.append(features.shape[1])\n",
    "    features = features.drop(\"id\", axis=1)\n",
    "\n",
    "    \n",
    "    if features.shape[1] == 180:\n",
    "        column_names = features.columns.tolist()\n",
    "        cnt_one = features.shape[1] // 2\n",
    "        new_column_names = [str(ind//cnt_one) + \"_\" + column_name for ind, column_name in enumerate(column_names)]\n",
    "        features.columns = new_column_names\n",
    "        \n",
    "        features = features.drop(\"1_start_cluster\", axis=1)\n",
    "\n",
    "        data_for_predict_2.append(features)\n",
    "        idx_for_predict_2.append(idx)\n",
    "        continue\n",
    "\n",
    "        \n",
    "    column_names = features.columns.tolist()\n",
    "    cnt_one = features.shape[1] //  3\n",
    "    new_column_names = [str(ind//cnt_one) + \"_\" + column_name for ind, column_name in enumerate(column_names)]\n",
    "    features.columns = new_column_names\n",
    "    \n",
    "    features = features.drop(\"2_start_cluster\", axis=1)\n",
    "    \n",
    "    data_for_predict.append(features)\n",
    "    idx_for_predict.append(idx)\n",
    "    \n",
    "    #     test_pool = Pool(features, cat_features=all_cat_cols)\n",
    "    #     preds = model.predict_proba(features)\n",
    "    #     test_answers.append(list(preds))"
   ]
  },
  {
   "cell_type": "code",
   "execution_count": null,
   "id": "5c5a39ad-4996-4b0a-a86b-96a758a8a271",
   "metadata": {},
   "outputs": [],
   "source": []
  },
  {
   "cell_type": "code",
   "execution_count": null,
   "id": "98dc64a9-a16e-4ed1-bfaa-cdf4070cf3c0",
   "metadata": {},
   "outputs": [],
   "source": []
  },
  {
   "cell_type": "code",
   "execution_count": 116,
   "id": "93d8785c",
   "metadata": {},
   "outputs": [],
   "source": [
    "df_predict = pd.concat(data_for_predict)\n",
    "#df_predict.drop(drop_features, axis=1, inplace=True)"
   ]
  },
  {
   "cell_type": "code",
   "execution_count": 186,
   "id": "063688b0",
   "metadata": {},
   "outputs": [],
   "source": [
    "# df_predict = df_predict[best_features]"
   ]
  },
  {
   "cell_type": "code",
   "execution_count": 217,
   "id": "47b97a52-c15e-448e-87ec-3968761cc095",
   "metadata": {},
   "outputs": [
    {
     "name": "stderr",
     "output_type": "stream",
     "text": [
      "10it [00:14,  1.41s/it]\n"
     ]
    }
   ],
   "source": [
    "pools = []\n",
    "\n",
    "for features_for_pool, cat_features_for_pool in tqdm(zip(features_for_k_fold, cat_features_for_k_fold)):\n",
    "    cur_df_predict = df_predict[features_for_pool]\n",
    "    test_pool = Pool(cur_df_predict, cat_features=cat_features_for_pool)\n",
    "    pools.append(test_pool)"
   ]
  },
  {
   "cell_type": "code",
   "execution_count": 218,
   "id": "9e7f0a3d-f2fe-407c-bc67-bf96836a44eb",
   "metadata": {},
   "outputs": [],
   "source": [
    "pools = [pools[i] for i in [0, 2, 4, 5, 6, 7]]\n",
    "models = [models[i] for i in [0, 2, 4, 5, 6, 7]]"
   ]
  },
  {
   "cell_type": "code",
   "execution_count": 219,
   "id": "0e623641",
   "metadata": {},
   "outputs": [],
   "source": [
    "# test_pool = Pool(df_predict, cat_features=all_cat_cols)\n",
    "preds = np.stack([model.predict_proba(cur_pool) for model, cur_pool in zip(models, pools)]).mean(axis=0)\n",
    "result_preds = pd.DataFrame(preds)\n",
    "result_preds.columns = model.classes_\n",
    "result_preds[\"id\"] = idx_for_predict"
   ]
  },
  {
   "cell_type": "code",
   "execution_count": 220,
   "id": "aa4ebf23-ca22-4742-a087-5eecfa4d9c28",
   "metadata": {},
   "outputs": [],
   "source": [
    "df_predict2 = pd.concat(data_for_predict_2)\n",
    "test_pool2 = Pool(df_predict2, cat_features=all_cat_cols2)\n",
    "preds2 = model2.predict_proba(test_pool2)\n",
    "result_preds2 = pd.DataFrame(preds2)\n",
    "result_preds2.columns = model2.classes_\n",
    "result_preds2[\"id\"] = idx_for_predict_2"
   ]
  },
  {
   "cell_type": "code",
   "execution_count": 221,
   "id": "9202b70e",
   "metadata": {},
   "outputs": [],
   "source": [
    "full_answer = pd.concat([result_preds, result_preds2]).sort_values(\"id\")"
   ]
  },
  {
   "cell_type": "code",
   "execution_count": 222,
   "id": "35653385",
   "metadata": {},
   "outputs": [],
   "source": [
    "full_answer.to_csv(\"da_zdravstvyet_sankt_piterburg_i_eto_gorod_nash.csv\", index=False)"
   ]
  },
  {
   "cell_type": "code",
   "execution_count": null,
   "id": "50cc5334-88a9-442c-8a47-ea83f9d14b7b",
   "metadata": {},
   "outputs": [],
   "source": []
  },
  {
   "cell_type": "code",
   "execution_count": null,
   "id": "08040c2b",
   "metadata": {},
   "outputs": [],
   "source": []
  },
  {
   "cell_type": "code",
   "execution_count": null,
   "id": "c43cdd2b",
   "metadata": {},
   "outputs": [],
   "source": [
    "last_sub = pd.read_csv(\"baseline_submission.csv\")"
   ]
  },
  {
   "cell_type": "code",
   "execution_count": null,
   "id": "3a5708cb",
   "metadata": {},
   "outputs": [],
   "source": [
    "all_idxs = set(last_sub.id)\n",
    "have_idxs = set(result_preds.id)\n",
    "need_idxs = all_idxs - have_idxs"
   ]
  },
  {
   "cell_type": "code",
   "execution_count": null,
   "id": "89bdd2f3",
   "metadata": {},
   "outputs": [],
   "source": [
    "extra_df = last_sub[last_sub.id.isin(need_idxs)]"
   ]
  },
  {
   "cell_type": "code",
   "execution_count": null,
   "id": "ef513c76",
   "metadata": {},
   "outputs": [],
   "source": [
    "answer = pd.concat([result_preds, extra_df], axis=0).sort_values(\"id\")"
   ]
  },
  {
   "cell_type": "code",
   "execution_count": null,
   "id": "d5079d4e",
   "metadata": {},
   "outputs": [],
   "source": [
    "answer.to_csv(\"new_idea_sub.csv\", index=False)"
   ]
  },
  {
   "cell_type": "code",
   "execution_count": null,
   "id": "ef81e228",
   "metadata": {},
   "outputs": [],
   "source": []
  },
  {
   "cell_type": "code",
   "execution_count": null,
   "id": "c90dd1ec",
   "metadata": {},
   "outputs": [],
   "source": []
  }
 ],
 "metadata": {
  "colab": {
   "provenance": []
  },
  "kernelspec": {
   "display_name": "Python 3 (ipykernel)",
   "language": "python",
   "name": "python3"
  },
  "language_info": {
   "codemirror_mode": {
    "name": "ipython",
    "version": 3
   },
   "file_extension": ".py",
   "mimetype": "text/x-python",
   "name": "python",
   "nbconvert_exporter": "python",
   "pygments_lexer": "ipython3",
   "version": "3.10.11"
  }
 },
 "nbformat": 4,
 "nbformat_minor": 5
}
